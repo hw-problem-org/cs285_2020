{
  "nbformat": 4,
  "nbformat_minor": 0,
  "metadata": {
    "colab": {
      "name": "DQN.ipynb",
      "provenance": [],
      "authorship_tag": "ABX9TyN4b0ao3susYkaietICiRvu",
      "include_colab_link": true
    },
    "kernelspec": {
      "name": "python3",
      "display_name": "Python 3"
    },
    "language_info": {
      "name": "python"
    }
  },
  "cells": [
    {
      "cell_type": "markdown",
      "metadata": {
        "id": "view-in-github",
        "colab_type": "text"
      },
      "source": [
        "<a href=\"https://colab.research.google.com/github/aditya-shriwastava/DeepRL_Experimentation/blob/master/DQN.ipynb\" target=\"_parent\"><img src=\"https://colab.research.google.com/assets/colab-badge.svg\" alt=\"Open In Colab\"/></a>"
      ]
    },
    {
      "cell_type": "markdown",
      "metadata": {
        "id": "1RnJxITl8-mo"
      },
      "source": [
        "# Setup the project in Google Colab\n"
      ]
    },
    {
      "cell_type": "code",
      "metadata": {
        "colab": {
          "base_uri": "https://localhost:8080/"
        },
        "id": "MCEN8HS18M8K",
        "outputId": "8a824235-d080-4880-c02e-0a5e28edf911"
      },
      "source": [
        "#Mount the project in Google Colab\n",
        "\n",
        "GUEST = False\n",
        "PROJECT = 'DeepRL_Experimentation'\n",
        "\n",
        "import os\n",
        "if GUEST:\n",
        "  !git clone https://github.com/aditya-shriwastava/DeepRL_Experimentation.git\n",
        "else:\n",
        "  # Mount Google Drive\n",
        "  from google.colab import drive\n",
        "  drive.mount('/content/gdrive')\n",
        "\n",
        "  # Setup Symlink to project folder\n",
        "  DRIVE_PATH = '/content/gdrive/My\\ Drive/' + PROJECT\n",
        "  SYM_PATH = '/content/' + PROJECT\n",
        "  if not os.path.exists(SYM_PATH):\n",
        "    !ln -s $DRIVE_PATH $SYM_PATH\n",
        "\n",
        "os.chdir( '/content/' + PROJECT)"
      ],
      "execution_count": 1,
      "outputs": [
        {
          "output_type": "stream",
          "text": [
            "Mounted at /content/gdrive\n"
          ],
          "name": "stdout"
        }
      ]
    },
    {
      "cell_type": "code",
      "metadata": {
        "cellView": "form",
        "id": "LQ0zLU9-8cW0"
      },
      "source": [
        "#@title apt install requirements\n",
        "\n",
        "!apt update > /dev/null 2>&1\n",
        "!apt install -y --no-install-recommends \\\n",
        "        xvfb \\\n",
        "        ffmpeg > /dev/null 2>&1"
      ],
      "execution_count": 6,
      "outputs": []
    },
    {
      "cell_type": "code",
      "metadata": {
        "cellView": "form",
        "id": "bP4bAxYk8ppj"
      },
      "source": [
        "#@title pip install requirements\n",
        "\n",
        "!pip install pyvirtualdisplay > /dev/null 2>&1\n",
        "!pip3 install box2d-py > /dev/null 2>&1\n",
        "!pip install Box2D > /dev/null 2>&1"
      ],
      "execution_count": 7,
      "outputs": []
    },
    {
      "cell_type": "code",
      "metadata": {
        "colab": {
          "base_uri": "https://localhost:8080/"
        },
        "cellView": "form",
        "id": "0aBmRqmr8xEf",
        "outputId": "5c116203-89ea-4d92-e2b4-28f15fb9eccc"
      },
      "source": [
        "#@title Setup Virtual Display\n",
        "\n",
        "from pyvirtualdisplay import Display\n",
        "\n",
        "display = Display(visible=0, size=(1400, 900))\n",
        "display.start()"
      ],
      "execution_count": 8,
      "outputs": [
        {
          "output_type": "execute_result",
          "data": {
            "text/plain": [
              "<pyvirtualdisplay.display.Display at 0x7f1cefdb7510>"
            ]
          },
          "metadata": {
            "tags": []
          },
          "execution_count": 8
        }
      ]
    },
    {
      "cell_type": "markdown",
      "metadata": {
        "id": "Ke6jTn3Z9F9l"
      },
      "source": [
        "# Test if setup is completed and working properly"
      ]
    },
    {
      "cell_type": "code",
      "metadata": {
        "colab": {
          "base_uri": "https://localhost:8080/",
          "height": 421
        },
        "id": "S_KsEXSs83Gh",
        "outputId": "c555eca9-3bb8-4f15-ebbc-0371be5017f4"
      },
      "source": [
        "import gym\n",
        "from colab_utils import (\n",
        "    wrap_env,\n",
        "    show_video\n",
        ")\n",
        "\n",
        "env = wrap_env(gym.make(\"CartPole-v1\"))\n",
        "\n",
        "observation = env.reset()\n",
        "for i in range(100):\n",
        "    env.render(mode='rgb_array')\n",
        "    obs, rew, term, _ = env.step(env.action_space.sample() ) \n",
        "    if term:\n",
        "      break;\n",
        "            \n",
        "env.close()\n",
        "show_video()"
      ],
      "execution_count": 9,
      "outputs": [
        {
          "output_type": "display_data",
          "data": {
            "text/html": [
              "<video alt=\"test\" autoplay \n",
              "                loop controls style=\"height: 400px;\">\n",
              "                <source src=\"data:video/mp4;base64,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\" type=\"video/mp4\" />\n",
              "             </video>"
            ],
            "text/plain": [
              "<IPython.core.display.HTML object>"
            ]
          },
          "metadata": {
            "tags": []
          }
        }
      ]
    },
    {
      "cell_type": "markdown",
      "metadata": {
        "id": "a3ktntwH9MV1"
      },
      "source": [
        "# DQN Algorithm Experimentation"
      ]
    }
  ]
}