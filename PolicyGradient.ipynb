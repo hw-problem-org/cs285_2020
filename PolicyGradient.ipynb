{
  "nbformat": 4,
  "nbformat_minor": 0,
  "metadata": {
    "kernelspec": {
      "display_name": "Python 3",
      "language": "python",
      "name": "python3"
    },
    "language_info": {
      "codemirror_mode": {
        "name": "ipython",
        "version": 3
      },
      "file_extension": ".py",
      "mimetype": "text/x-python",
      "name": "python",
      "nbconvert_exporter": "python",
      "pygments_lexer": "ipython3",
      "version": "3.6.9"
    },
    "colab": {
      "name": "PolicyGradient.ipynb",
      "provenance": [],
      "collapsed_sections": [
        "3zeBQSTD0RaQ"
      ],
      "include_colab_link": true
    },
    "accelerator": "GPU"
  },
  "cells": [
    {
      "cell_type": "markdown",
      "metadata": {
        "id": "view-in-github",
        "colab_type": "text"
      },
      "source": [
        "<a href=\"https://colab.research.google.com/github/aditya-shriwastava/DeepRL_Experimentation/blob/master/PolicyGradient.ipynb\" target=\"_parent\"><img src=\"https://colab.research.google.com/assets/colab-badge.svg\" alt=\"Open In Colab\"/></a>"
      ]
    },
    {
      "cell_type": "markdown",
      "metadata": {
        "id": "j-rDHeZPyI6v"
      },
      "source": [
        "# Setup the project in Google Colab"
      ]
    },
    {
      "cell_type": "code",
      "metadata": {
        "colab": {
          "base_uri": "https://localhost:8080/"
        },
        "id": "bDCs5BAXqVvM",
        "outputId": "b4e2065b-fa9f-4aeb-ca30-8ea170dc3c5b"
      },
      "source": [
        "#Mount the project in Google Colab\n",
        "\n",
        "GUEST = False\n",
        "PROJECT = 'DeepRL_Experimentation'\n",
        "\n",
        "import os\n",
        "if GUEST:\n",
        "  !git clone https://github.com/aditya-shriwastava/DeepRL_Experimentation.git\n",
        "else:\n",
        "  # Mount Google Drive\n",
        "  from google.colab import drive\n",
        "  drive.mount('/content/gdrive')\n",
        "\n",
        "  # Setup Symlink to project folder\n",
        "  DRIVE_PATH = '/content/gdrive/My\\ Drive/' + PROJECT\n",
        "  SYM_PATH = '/content/' + PROJECT\n",
        "  if not os.path.exists(SYM_PATH):\n",
        "    !ln -s $DRIVE_PATH $SYM_PATH\n",
        "\n",
        "os.chdir( '/content/' + PROJECT)"
      ],
      "execution_count": 1,
      "outputs": [
        {
          "output_type": "stream",
          "text": [
            "Mounted at /content/gdrive\n"
          ],
          "name": "stdout"
        }
      ]
    },
    {
      "cell_type": "code",
      "metadata": {
        "id": "7gePCUf_4XbC",
        "cellView": "form"
      },
      "source": [
        "#@title apt install requirements\n",
        "\n",
        "!apt update > /dev/null 2>&1\n",
        "!apt install -y --no-install-recommends \\\n",
        "        xvfb \\\n",
        "        ffmpeg > /dev/null 2>&1"
      ],
      "execution_count": 2,
      "outputs": []
    },
    {
      "cell_type": "code",
      "metadata": {
        "id": "l6BxVwld5szD",
        "cellView": "form"
      },
      "source": [
        "#@title pip install requirements\n",
        "\n",
        "!pip install pyvirtualdisplay > /dev/null 2>&1\n",
        "!pip3 install box2d-py > /dev/null 2>&1\n",
        "!pip install Box2D > /dev/null 2>&1"
      ],
      "execution_count": 3,
      "outputs": []
    },
    {
      "cell_type": "code",
      "metadata": {
        "colab": {
          "base_uri": "https://localhost:8080/"
        },
        "id": "W8Ys-gbVvbN_",
        "cellView": "form",
        "outputId": "5ec25457-d593-4d76-c2a5-cc81904efcc3"
      },
      "source": [
        "#@title Setup Virtual Display\n",
        "\n",
        "from pyvirtualdisplay import Display\n",
        "\n",
        "display = Display(visible=0, size=(1400, 900))\n",
        "display.start()"
      ],
      "execution_count": 4,
      "outputs": [
        {
          "output_type": "execute_result",
          "data": {
            "text/plain": [
              "<pyvirtualdisplay.display.Display at 0x7f4649df0b90>"
            ]
          },
          "metadata": {
            "tags": []
          },
          "execution_count": 4
        }
      ]
    },
    {
      "cell_type": "markdown",
      "metadata": {
        "id": "3zeBQSTD0RaQ"
      },
      "source": [
        "# Test if setup is completed and working properly"
      ]
    },
    {
      "cell_type": "code",
      "metadata": {
        "colab": {
          "base_uri": "https://localhost:8080/",
          "height": 421
        },
        "id": "pr0-ps7hvvUw",
        "outputId": "7dbdf6f5-922c-403c-d7b6-1186bad420bd"
      },
      "source": [
        "import gym\n",
        "from colab_utils import (\n",
        "    wrap_env,\n",
        "    show_video\n",
        ")\n",
        "\n",
        "env = wrap_env(gym.make(\"CartPole-v1\"))\n",
        "\n",
        "observation = env.reset()\n",
        "for i in range(100):\n",
        "    env.render(mode='rgb_array')\n",
        "    obs, rew, term, _ = env.step(env.action_space.sample() ) \n",
        "    if term:\n",
        "      break;\n",
        "            \n",
        "env.close()\n",
        "show_video()"
      ],
      "execution_count": null,
      "outputs": [
        {
          "output_type": "display_data",
          "data": {
            "text/html": [
              "<video alt=\"test\" autoplay \n",
              "                loop controls style=\"height: 400px;\">\n",
              "                <source src=\"data:video/mp4;base64,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\" type=\"video/mp4\" />\n",
              "             </video>"
            ],
            "text/plain": [
              "<IPython.core.display.HTML object>"
            ]
          },
          "metadata": {
            "tags": []
          }
        }
      ]
    },
    {
      "cell_type": "markdown",
      "metadata": {
        "id": "63rhqwXVhHAJ"
      },
      "source": [
        "# Policy Gradient Algorithm Experimentation"
      ]
    },
    {
      "cell_type": "code",
      "metadata": {
        "colab": {
          "base_uri": "https://localhost:8080/"
        },
        "cellView": "form",
        "id": "q0DuGYbwew9a",
        "outputId": "6ea229e4-077a-4e81-d5f1-20fe22545892"
      },
      "source": [
        "#@title Imports\n",
        "from importlib import reload\n",
        "import gym\n",
        "\n",
        "import pg_agent\n",
        "import MLP_policy\n",
        "reload(MLP_policy)\n",
        "reload(pg_agent)\n",
        "from pg_agent import *\n",
        "\n",
        "import utils\n",
        "reload(utils)"
      ],
      "execution_count": 28,
      "outputs": [
        {
          "output_type": "execute_result",
          "data": {
            "text/plain": [
              "<module 'utils' from '/content/gdrive/My Drive/DeepRL_Experimentation/utils.py'>"
            ]
          },
          "metadata": {
            "tags": []
          },
          "execution_count": 28
        }
      ]
    },
    {
      "cell_type": "code",
      "metadata": {
        "colab": {
          "base_uri": "https://localhost:8080/"
        },
        "id": "Hy06fCch9Lvx",
        "outputId": "65350721-8345-45b0-93e8-2ccb81181081"
      },
      "source": [
        "env = gym.make(\"CartPole-v1\")\n",
        "\n",
        "actor_params = {\\\n",
        "\"ac_dim\": env.action_space.n,\\\n",
        "\"ob_dim\": env.observation_space.shape[0],\\\n",
        "\"n_layers\": 5,\\\n",
        "\"hidden_layer_size\": 100,\\\n",
        "\"learning_rate\": 1e-4,\\\n",
        "\"variance_reduction\": \"BOTH\"}\n",
        "\n",
        "agent_params = {\\\n",
        "\"actor_params\": actor_params}\n",
        "\n",
        "pg_agent = PGAgent(agent_params)\n",
        "\n",
        "print(f\"E[rewards_sum] before training: {utils.expected_rewards_sum(env, pg_agent.actor, env._max_episode_steps, 200)}\")\n",
        "\n",
        "# Training Loop\n",
        "for i in range(150):\n",
        "  print(i, end = \",\")\n",
        "  trajectories = utils.sample_trajectories(env, pg_agent.actor, env._max_episode_steps, 5000)\n",
        "  pg_agent.train(trajectories)\n",
        "\n",
        "print(f\"\\nE[rewards_sum] after training: {utils.expected_rewards_sum(env, pg_agent.actor, env._max_episode_steps, 200)}\")"
      ],
      "execution_count": 29,
      "outputs": [
        {
          "output_type": "stream",
          "text": [
            "E[rewards_sum] before training: 22.435\n",
            "0,1,2,3,4,5,6,7,8,9,10,11,12,13,14,15,16,17,18,19,20,21,22,23,24,25,26,27,28,29,30,31,32,33,34,35,36,37,38,39,40,41,42,43,44,45,46,47,48,49,50,51,52,53,54,55,56,57,58,59,60,61,62,63,64,65,66,67,68,69,70,71,72,73,74,75,76,77,78,79,80,81,82,83,84,85,86,87,88,89,90,91,92,93,94,95,96,97,98,99,100,101,102,103,104,105,106,107,108,109,110,111,112,113,114,115,116,117,118,119,120,121,122,123,124,125,126,127,128,129,130,131,132,133,134,135,136,137,138,139,140,141,142,143,144,145,146,147,148,149,\n",
            "E[rewards_sum] after training: 230.31\n"
          ],
          "name": "stdout"
        }
      ]
    },
    {
      "cell_type": "code",
      "metadata": {
        "colab": {
          "base_uri": "https://localhost:8080/",
          "height": 421
        },
        "id": "ruSCGDqgwHjz",
        "outputId": "ba721faf-17ae-48bb-d330-e0c965707a00"
      },
      "source": [
        "from colab_utils import (\n",
        "    wrap_env,\n",
        "    show_video\n",
        ")\n",
        "\n",
        "envw = wrap_env(env)\n",
        "\n",
        "ob = envw.reset()\n",
        "for i in range(500):\n",
        "  envw.render(mode='rgb_array')\n",
        "  ob, reward, done, _ = envw.step(pg_agent.actor.get_action(ob)) \n",
        "  if done:\n",
        "    break;\n",
        "            \n",
        "envw.close()\n",
        "show_video()"
      ],
      "execution_count": 30,
      "outputs": [
        {
          "output_type": "display_data",
          "data": {
            "text/html": [
              "<video alt=\"test\" autoplay \n",
              "                loop controls style=\"height: 400px;\">\n",
              "                <source src=\"data:video/mp4;base64,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\" type=\"video/mp4\" />\n",
              "             </video>"
            ],
            "text/plain": [
              "<IPython.core.display.HTML object>"
            ]
          },
          "metadata": {
            "tags": []
          }
        }
      ]
    }
  ]
}