{
  "nbformat": 4,
  "nbformat_minor": 0,
  "metadata": {
    "kernelspec": {
      "display_name": "Python 3",
      "language": "python",
      "name": "python3"
    },
    "language_info": {
      "codemirror_mode": {
        "name": "ipython",
        "version": 3
      },
      "file_extension": ".py",
      "mimetype": "text/x-python",
      "name": "python",
      "nbconvert_exporter": "python",
      "pygments_lexer": "ipython3",
      "version": "3.6.9"
    },
    "colab": {
      "name": "PolicyGradient.ipynb",
      "provenance": [],
      "collapsed_sections": [],
      "include_colab_link": true
    }
  },
  "cells": [
    {
      "cell_type": "markdown",
      "metadata": {
        "id": "view-in-github",
        "colab_type": "text"
      },
      "source": [
        "<a href=\"https://colab.research.google.com/github/aditya-shriwastava/DeepRL_Experimentation/blob/master/PolicyGradient.ipynb\" target=\"_parent\"><img src=\"https://colab.research.google.com/assets/colab-badge.svg\" alt=\"Open In Colab\"/></a>"
      ]
    },
    {
      "cell_type": "markdown",
      "metadata": {
        "id": "j-rDHeZPyI6v"
      },
      "source": [
        "# Mount the project in Google Colab"
      ]
    },
    {
      "cell_type": "code",
      "metadata": {
        "colab": {
          "base_uri": "https://localhost:8080/"
        },
        "id": "bDCs5BAXqVvM",
        "outputId": "2ddebfd9-eed1-45df-d888-73e20ed47814"
      },
      "source": [
        "GUEST = False\n",
        "PROJECT = 'DeepRL_Experimentation'\n",
        "\n",
        "import os\n",
        "if GUEST:\n",
        "  !git clone https://github.com/aditya-shriwastava/DeepRL_Experimentation.git\n",
        "else:\n",
        "  # Mount Google Drive\n",
        "  from google.colab import drive\n",
        "  drive.mount('/content/gdrive')\n",
        "\n",
        "  # Setup Symlink to project folder\n",
        "  DRIVE_PATH = '/content/gdrive/My\\ Drive/' + PROJECT\n",
        "  SYM_PATH = '/content/' + PROJECT\n",
        "  if not os.path.exists(SYM_PATH):\n",
        "    !ln -s $DRIVE_PATH $SYM_PATH\n",
        "\n",
        "os.chdir(PROJECT)"
      ],
      "execution_count": 1,
      "outputs": [
        {
          "output_type": "stream",
          "text": [
            "Cloning into 'DeepRL_Experimentation'...\n",
            "remote: Enumerating objects: 11, done.\u001b[K\n",
            "remote: Counting objects: 100% (11/11), done.\u001b[K\n",
            "remote: Compressing objects: 100% (10/10), done.\u001b[K\n",
            "remote: Total 11 (delta 3), reused 6 (delta 1), pack-reused 0\u001b[K\n",
            "Unpacking objects: 100% (11/11), done.\n"
          ],
          "name": "stdout"
        }
      ]
    },
    {
      "cell_type": "code",
      "metadata": {
        "cellView": "form",
        "id": "7gePCUf_4XbC"
      },
      "source": [
        "#@title apt install requirements\n",
        "\n",
        "!apt update > /dev/null 2>&1\n",
        "!apt install -y --no-install-recommends \\\n",
        "        build-essential \\\n",
        "        curl \\\n",
        "        git \\\n",
        "        gnupg2 \\\n",
        "        make \\\n",
        "        cmake \\\n",
        "        ffmpeg \\\n",
        "        swig \\\n",
        "        libz-dev \\\n",
        "        unzip \\\n",
        "        zlib1g-dev \\\n",
        "        libglfw3 \\\n",
        "        libglfw3-dev \\\n",
        "        libxrandr2 \\\n",
        "        libxinerama-dev \\\n",
        "        libxi6 \\\n",
        "        libxcursor-dev \\\n",
        "        libgl1-mesa-dev \\\n",
        "        libgl1-mesa-glx \\\n",
        "        libglew-dev \\\n",
        "        libosmesa6-dev \\\n",
        "        lsb-release \\\n",
        "        ack-grep \\\n",
        "        patchelf \\\n",
        "        wget \\\n",
        "        xpra \\\n",
        "        xserver-xorg-dev \\\n",
        "        xvfb \\\n",
        "        python-opengl \\\n",
        "        ffmpeg > /dev/null 2>&1"
      ],
      "execution_count": 3,
      "outputs": []
    },
    {
      "cell_type": "code",
      "metadata": {
        "cellView": "form",
        "id": "l6BxVwld5szD"
      },
      "source": [
        "#@title pip install requirements\n",
        "\n",
        "!pip install pyvirtualdisplay > /dev/null 2>&1"
      ],
      "execution_count": 4,
      "outputs": []
    },
    {
      "cell_type": "code",
      "metadata": {
        "colab": {
          "base_uri": "https://localhost:8080/"
        },
        "id": "W8Ys-gbVvbN_",
        "cellView": "form",
        "outputId": "455ca738-b0dd-477d-d742-6d0003708361"
      },
      "source": [
        "#@title Setup Virtual Display\n",
        "\n",
        "from pyvirtualdisplay import Display\n",
        "\n",
        "display = Display(visible=0, size=(1400, 900))\n",
        "display.start()"
      ],
      "execution_count": 5,
      "outputs": [
        {
          "output_type": "execute_result",
          "data": {
            "text/plain": [
              "<pyvirtualdisplay.display.Display at 0x7fb46661dfd0>"
            ]
          },
          "metadata": {
            "tags": []
          },
          "execution_count": 5
        }
      ]
    },
    {
      "cell_type": "markdown",
      "metadata": {
        "id": "3zeBQSTD0RaQ"
      },
      "source": [
        "# Actual Code"
      ]
    },
    {
      "cell_type": "code",
      "metadata": {
        "colab": {
          "base_uri": "https://localhost:8080/",
          "height": 421
        },
        "id": "pr0-ps7hvvUw",
        "outputId": "d62929c0-1b7d-4a40-ab62-f949047f86ad"
      },
      "source": [
        "import gym\n",
        "from colab_utils import (\n",
        "    wrap_env,\n",
        "    show_video\n",
        ") \n",
        "\n",
        "env = wrap_env(gym.make(\"CartPole-v1\"))\n",
        "\n",
        "observation = env.reset()\n",
        "for i in range(100):\n",
        "    env.render(mode='rgb_array')\n",
        "    obs, rew, term, _ = env.step(env.action_space.sample() ) \n",
        "    if term:\n",
        "      break;\n",
        "            \n",
        "env.close()\n",
        "show_video()"
      ],
      "execution_count": 6,
      "outputs": [
        {
          "output_type": "display_data",
          "data": {
            "text/html": [
              "<video alt=\"test\" autoplay \n",
              "                loop controls style=\"height: 400px;\">\n",
              "                <source src=\"data:video/mp4;base64,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\" type=\"video/mp4\" />\n",
              "             </video>"
            ],
            "text/plain": [
              "<IPython.core.display.HTML object>"
            ]
          },
          "metadata": {
            "tags": []
          }
        }
      ]
    }
  ]
}