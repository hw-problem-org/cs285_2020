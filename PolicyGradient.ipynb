{
  "nbformat": 4,
  "nbformat_minor": 0,
  "metadata": {
    "kernelspec": {
      "display_name": "Python 3",
      "language": "python",
      "name": "python3"
    },
    "language_info": {
      "codemirror_mode": {
        "name": "ipython",
        "version": 3
      },
      "file_extension": ".py",
      "mimetype": "text/x-python",
      "name": "python",
      "nbconvert_exporter": "python",
      "pygments_lexer": "ipython3",
      "version": "3.6.9"
    },
    "colab": {
      "name": "PolicyGradient.ipynb",
      "provenance": [],
      "collapsed_sections": [
        "3zeBQSTD0RaQ",
        "DhIpeef189Em"
      ],
      "include_colab_link": true
    }
  },
  "cells": [
    {
      "cell_type": "markdown",
      "metadata": {
        "id": "view-in-github",
        "colab_type": "text"
      },
      "source": [
        "<a href=\"https://colab.research.google.com/github/aditya-shriwastava/DeepRL_Experimentation/blob/master/PolicyGradient.ipynb\" target=\"_parent\"><img src=\"https://colab.research.google.com/assets/colab-badge.svg\" alt=\"Open In Colab\"/></a>"
      ]
    },
    {
      "cell_type": "markdown",
      "metadata": {
        "id": "j-rDHeZPyI6v"
      },
      "source": [
        "# Setup the project in Google Colab"
      ]
    },
    {
      "cell_type": "code",
      "metadata": {
        "colab": {
          "base_uri": "https://localhost:8080/"
        },
        "id": "bDCs5BAXqVvM",
        "outputId": "d73789d1-b0ed-45e7-b32b-53e55a52d31d"
      },
      "source": [
        "#@title Mount the project in Google Colab\n",
        "\n",
        "GUEST = False\n",
        "PROJECT = 'DeepRL_Experimentation'\n",
        "\n",
        "import os\n",
        "if GUEST:\n",
        "  !git clone https://github.com/aditya-shriwastava/DeepRL_Experimentation.git\n",
        "else:\n",
        "  # Mount Google Drive\n",
        "  from google.colab import drive\n",
        "  drive.mount('/content/gdrive')\n",
        "\n",
        "  # Setup Symlink to project folder\n",
        "  DRIVE_PATH = '/content/gdrive/My\\ Drive/' + PROJECT\n",
        "  SYM_PATH = '/content/' + PROJECT\n",
        "  if not os.path.exists(SYM_PATH):\n",
        "    !ln -s $DRIVE_PATH $SYM_PATH\n",
        "\n",
        "os.chdir( '/content/' + PROJECT)"
      ],
      "execution_count": 1,
      "outputs": [
        {
          "output_type": "stream",
          "text": [
            "Mounted at /content/gdrive\n"
          ],
          "name": "stdout"
        }
      ]
    },
    {
      "cell_type": "code",
      "metadata": {
        "id": "7gePCUf_4XbC",
        "cellView": "form"
      },
      "source": [
        "#@title apt install requirements\n",
        "\n",
        "!apt update > /dev/null 2>&1\n",
        "!apt install -y --no-install-recommends \\\n",
        "        xvfb \\\n",
        "        ffmpeg > /dev/null 2>&1"
      ],
      "execution_count": 2,
      "outputs": []
    },
    {
      "cell_type": "code",
      "metadata": {
        "id": "l6BxVwld5szD",
        "cellView": "form"
      },
      "source": [
        "#@title pip install requirements\n",
        "\n",
        "!pip install pyvirtualdisplay > /dev/null 2>&1\n",
        "!pip3 install box2d-py > /dev/null 2>&1\n",
        "!pip install Box2D > /dev/null 2>&1"
      ],
      "execution_count": 3,
      "outputs": []
    },
    {
      "cell_type": "code",
      "metadata": {
        "colab": {
          "base_uri": "https://localhost:8080/"
        },
        "id": "W8Ys-gbVvbN_",
        "cellView": "form",
        "outputId": "1fb16f8e-cc56-4777-dabb-21212ed5c275"
      },
      "source": [
        "#@title Setup Virtual Display\n",
        "\n",
        "from pyvirtualdisplay import Display\n",
        "\n",
        "display = Display(visible=0, size=(1400, 900))\n",
        "display.start()"
      ],
      "execution_count": 4,
      "outputs": [
        {
          "output_type": "execute_result",
          "data": {
            "text/plain": [
              "<pyvirtualdisplay.display.Display at 0x7f4b121d8090>"
            ]
          },
          "metadata": {
            "tags": []
          },
          "execution_count": 4
        }
      ]
    },
    {
      "cell_type": "markdown",
      "metadata": {
        "id": "3zeBQSTD0RaQ"
      },
      "source": [
        "# Test if setup is completed and working properly"
      ]
    },
    {
      "cell_type": "code",
      "metadata": {
        "colab": {
          "base_uri": "https://localhost:8080/",
          "height": 421
        },
        "id": "pr0-ps7hvvUw",
        "outputId": "8a549cd5-207e-44fc-d7ad-aad0356798f4"
      },
      "source": [
        "import gym\n",
        "from colab_utils import (\n",
        "    wrap_env,\n",
        "    show_video\n",
        ")\n",
        "\n",
        "env = wrap_env(gym.make(\"CartPole-v1\"))\n",
        "\n",
        "observation = env.reset()\n",
        "for i in range(100):\n",
        "    env.render(mode='rgb_array')\n",
        "    obs, rew, term, _ = env.step(env.action_space.sample() ) \n",
        "    if term:\n",
        "      break;\n",
        "            \n",
        "env.close()\n",
        "show_video()"
      ],
      "execution_count": 6,
      "outputs": [
        {
          "output_type": "display_data",
          "data": {
            "text/html": [
              "<video alt=\"test\" autoplay \n",
              "                loop controls style=\"height: 400px;\">\n",
              "                <source src=\"data:video/mp4;base64,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\" type=\"video/mp4\" />\n",
              "             </video>"
            ],
            "text/plain": [
              "<IPython.core.display.HTML object>"
            ]
          },
          "metadata": {
            "tags": []
          }
        }
      ]
    },
    {
      "cell_type": "markdown",
      "metadata": {
        "id": "63rhqwXVhHAJ"
      },
      "source": [
        "# Policy Gradient Algorithm Experimentation"
      ]
    },
    {
      "cell_type": "code",
      "metadata": {
        "colab": {
          "base_uri": "https://localhost:8080/"
        },
        "id": "eF7PpWrRK0D4",
        "cellView": "form",
        "outputId": "465af1de-b59b-4550-f82c-711aece35784"
      },
      "source": [
        "#@title Imports\n",
        "from importlib import reload\n",
        "import gym\n",
        "\n",
        "import pg_agent\n",
        "import MLP_policy\n",
        "reload(MLP_policy)\n",
        "reload(pg_agent)\n",
        "from pg_agent import *\n",
        "\n",
        "import utils\n",
        "reload(utils)"
      ],
      "execution_count": 26,
      "outputs": [
        {
          "output_type": "execute_result",
          "data": {
            "text/plain": [
              "<module 'utils' from '/content/gdrive/My Drive/DeepRL_Experimentation/utils.py'>"
            ]
          },
          "metadata": {
            "tags": []
          },
          "execution_count": 26
        }
      ]
    },
    {
      "cell_type": "markdown",
      "metadata": {
        "id": "Om_tkgKs8IYX"
      },
      "source": [
        "## REINFORCE Algorithm Experimentation"
      ]
    },
    {
      "cell_type": "code",
      "metadata": {
        "colab": {
          "base_uri": "https://localhost:8080/"
        },
        "id": "CxBhzPAqJ2dM",
        "outputId": "5e2159bf-0299-4ef3-f5c9-3ea86c08f2b5"
      },
      "source": [
        "env = gym.make(\"CartPole-v1\")\n",
        "\n",
        "actor_params = {\\\n",
        "\"ac_dim\": env.action_space.n,\\\n",
        "\"ob_dim\": env.observation_space.shape[0],\\\n",
        "\"n_layers\": 5,\\\n",
        "\"hidden_layer_size\": 100,\\\n",
        "\"learning_rate\": 1e-4}\n",
        "\n",
        "agent_params = {\\\n",
        "\"actor_params\": actor_params}\n",
        "\n",
        "agent = REINFORCEAgent(agent_params)\n",
        "\n",
        "print(f\"E[rewards_sum] before training: {utils.expected_rewards_sum(env, agent.actor, env._max_episode_steps, 200)}\")\n",
        "\n",
        "# Training Loop\n",
        "for _ in range(500):\n",
        "  trajectories = utils.sample_trajectories(env, agent.actor, env._max_episode_steps, 5000)\n",
        "  agent.train(trajectories)\n",
        "\n",
        "print(f\"E[rewards_sum] after training: {utils.expected_rewards_sum(env, agent.actor, env._max_episode_steps, 200)}\")"
      ],
      "execution_count": 29,
      "outputs": [
        {
          "output_type": "stream",
          "text": [
            "E[rewards_sum] before training: 21.65\n",
            "E[rewards_sum] after training: 437.65\n"
          ],
          "name": "stdout"
        }
      ]
    },
    {
      "cell_type": "code",
      "metadata": {
        "colab": {
          "base_uri": "https://localhost:8080/",
          "height": 421
        },
        "id": "ruSCGDqgwHjz",
        "outputId": "9b25e471-dc9d-4ed5-af90-5e04fd5808f0"
      },
      "source": [
        "from colab_utils import (\n",
        "    wrap_env,\n",
        "    show_video\n",
        ")\n",
        "\n",
        "env = wrap_env(env)\n",
        "\n",
        "ob = env.reset()\n",
        "for i in range(500):\n",
        "    env.render(mode='rgb_array')\n",
        "    ob, reward, done, _ = env.step(agent.actor.get_action(ob)) \n",
        "    if done:\n",
        "      break;\n",
        "            \n",
        "env.close()\n",
        "show_video()"
      ],
      "execution_count": 31,
      "outputs": [
        {
          "output_type": "display_data",
          "data": {
            "text/html": [
              "<video alt=\"test\" autoplay \n",
              "                loop controls style=\"height: 400px;\">\n",
              "                <source src=\"data:video/mp4;base64,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\" type=\"video/mp4\" />\n",
              "             </video>"
            ],
            "text/plain": [
              "<IPython.core.display.HTML object>"
            ]
          },
          "metadata": {
            "tags": []
          }
        }
      ]
    },
    {
      "cell_type": "code",
      "metadata": {
        "id": "xp0pBQ7_88RB"
      },
      "source": [
        ""
      ],
      "execution_count": null,
      "outputs": []
    },
    {
      "cell_type": "markdown",
      "metadata": {
        "id": "DhIpeef189Em"
      },
      "source": [
        "## General Policy Gradient Algorithm Experimentation"
      ]
    },
    {
      "cell_type": "code",
      "metadata": {
        "id": "Hy06fCch9Lvx"
      },
      "source": [
        ""
      ],
      "execution_count": null,
      "outputs": []
    }
  ]
}