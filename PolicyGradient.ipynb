{
  "nbformat": 4,
  "nbformat_minor": 0,
  "metadata": {
    "kernelspec": {
      "display_name": "Python 3",
      "language": "python",
      "name": "python3"
    },
    "language_info": {
      "codemirror_mode": {
        "name": "ipython",
        "version": 3
      },
      "file_extension": ".py",
      "mimetype": "text/x-python",
      "name": "python",
      "nbconvert_exporter": "python",
      "pygments_lexer": "ipython3",
      "version": "3.6.9"
    },
    "colab": {
      "name": "PolicyGradient.ipynb",
      "provenance": [],
      "collapsed_sections": [
        "3zeBQSTD0RaQ"
      ],
      "include_colab_link": true
    },
    "accelerator": "GPU"
  },
  "cells": [
    {
      "cell_type": "markdown",
      "metadata": {
        "id": "view-in-github",
        "colab_type": "text"
      },
      "source": [
        "<a href=\"https://colab.research.google.com/github/aditya-shriwastava/DeepRL_Experimentation/blob/master/PolicyGradient.ipynb\" target=\"_parent\"><img src=\"https://colab.research.google.com/assets/colab-badge.svg\" alt=\"Open In Colab\"/></a>"
      ]
    },
    {
      "cell_type": "markdown",
      "metadata": {
        "id": "j-rDHeZPyI6v"
      },
      "source": [
        "# Setup the project in Google Colab"
      ]
    },
    {
      "cell_type": "code",
      "metadata": {
        "colab": {
          "base_uri": "https://localhost:8080/"
        },
        "id": "bDCs5BAXqVvM",
        "outputId": "bd29d451-9e46-4625-a311-2a96d662d95d"
      },
      "source": [
        "#Mount the project in Google Colab\n",
        "\n",
        "GUEST = False\n",
        "PROJECT = 'DeepRL_Experimentation'\n",
        "\n",
        "import os\n",
        "if GUEST:\n",
        "  !git clone https://github.com/aditya-shriwastava/DeepRL_Experimentation.git\n",
        "else:\n",
        "  # Mount Google Drive\n",
        "  from google.colab import drive\n",
        "  drive.mount('/content/gdrive')\n",
        "\n",
        "  # Setup Symlink to project folder\n",
        "  DRIVE_PATH = '/content/gdrive/My\\ Drive/' + PROJECT\n",
        "  SYM_PATH = '/content/' + PROJECT\n",
        "  if not os.path.exists(SYM_PATH):\n",
        "    !ln -s $DRIVE_PATH $SYM_PATH\n",
        "\n",
        "os.chdir( '/content/' + PROJECT)"
      ],
      "execution_count": 1,
      "outputs": [
        {
          "output_type": "stream",
          "text": [
            "Mounted at /content/gdrive\n"
          ],
          "name": "stdout"
        }
      ]
    },
    {
      "cell_type": "code",
      "metadata": {
        "id": "7gePCUf_4XbC",
        "cellView": "form"
      },
      "source": [
        "#@title apt install requirements\n",
        "\n",
        "!apt update > /dev/null 2>&1\n",
        "!apt install -y --no-install-recommends \\\n",
        "        xvfb \\\n",
        "        ffmpeg > /dev/null 2>&1"
      ],
      "execution_count": 2,
      "outputs": []
    },
    {
      "cell_type": "code",
      "metadata": {
        "id": "l6BxVwld5szD",
        "cellView": "form"
      },
      "source": [
        "#@title pip install requirements\n",
        "\n",
        "!pip install pyvirtualdisplay > /dev/null 2>&1\n",
        "!pip3 install box2d-py > /dev/null 2>&1\n",
        "!pip install Box2D > /dev/null 2>&1"
      ],
      "execution_count": 3,
      "outputs": []
    },
    {
      "cell_type": "code",
      "metadata": {
        "colab": {
          "base_uri": "https://localhost:8080/"
        },
        "id": "W8Ys-gbVvbN_",
        "cellView": "form",
        "outputId": "aa773f50-68d6-4bce-a61e-1226a3dcc8cb"
      },
      "source": [
        "#@title Setup Virtual Display\n",
        "\n",
        "from pyvirtualdisplay import Display\n",
        "\n",
        "display = Display(visible=0, size=(1400, 900))\n",
        "display.start()"
      ],
      "execution_count": 4,
      "outputs": [
        {
          "output_type": "execute_result",
          "data": {
            "text/plain": [
              "<pyvirtualdisplay.display.Display at 0x7f0d6d2f8f10>"
            ]
          },
          "metadata": {
            "tags": []
          },
          "execution_count": 4
        }
      ]
    },
    {
      "cell_type": "markdown",
      "metadata": {
        "id": "3zeBQSTD0RaQ"
      },
      "source": [
        "# Test if setup is completed and working properly"
      ]
    },
    {
      "cell_type": "code",
      "metadata": {
        "colab": {
          "base_uri": "https://localhost:8080/",
          "height": 421
        },
        "id": "pr0-ps7hvvUw",
        "outputId": "7dbdf6f5-922c-403c-d7b6-1186bad420bd"
      },
      "source": [
        "import gym\n",
        "from colab_utils import (\n",
        "    wrap_env,\n",
        "    show_video\n",
        ")\n",
        "\n",
        "env = wrap_env(gym.make(\"CartPole-v1\"))\n",
        "\n",
        "observation = env.reset()\n",
        "for i in range(100):\n",
        "    env.render(mode='rgb_array')\n",
        "    obs, rew, term, _ = env.step(env.action_space.sample() ) \n",
        "    if term:\n",
        "      break;\n",
        "            \n",
        "env.close()\n",
        "show_video()"
      ],
      "execution_count": null,
      "outputs": [
        {
          "output_type": "display_data",
          "data": {
            "text/html": [
              "<video alt=\"test\" autoplay \n",
              "                loop controls style=\"height: 400px;\">\n",
              "                <source src=\"data:video/mp4;base64,AAAAIGZ0eXBpc29tAAACAGlzb21pc28yYXZjMW1wNDEAAAAIZnJlZQAAEOZtZGF0AAACrgYF//+q3EXpvebZSLeWLNgg2SPu73gyNjQgLSBjb3JlIDE1MiByMjg1NCBlOWE1OTAzIC0gSC4yNjQvTVBFRy00IEFWQyBjb2RlYyAtIENvcHlsZWZ0IDIwMDMtMjAxNyAtIGh0dHA6Ly93d3cudmlkZW9sYW4ub3JnL3gyNjQuaHRtbCAtIG9wdGlvbnM6IGNhYmFjPTEgcmVmPTMgZGVibG9jaz0xOjA6MCBhbmFseXNlPTB4MzoweDExMyBtZT1oZXggc3VibWU9NyBwc3k9MSBwc3lfcmQ9MS4wMDowLjAwIG1peGVkX3JlZj0xIG1lX3JhbmdlPTE2IGNocm9tYV9tZT0xIHRyZWxsaXM9MSA4eDhkY3Q9MSBjcW09MCBkZWFkem9uZT0yMSwxMSBmYXN0X3Bza2lwPTEgY2hyb21hX3FwX29mZnNldD0tMiB0aHJlYWRzPTMgbG9va2FoZWFkX3RocmVhZHM9MSBzbGljZWRfdGhyZWFkcz0wIG5yPTAgZGVjaW1hdGU9MSBpbnRlcmxhY2VkPTAgYmx1cmF5X2NvbXBhdD0wIGNvbnN0cmFpbmVkX2ludHJhPTAgYmZyYW1lcz0zIGJfcHlyYW1pZD0yIGJfYWRhcHQ9MSBiX2JpYXM9MCBkaXJlY3Q9MSB3ZWlnaHRiPTEgb3Blbl9nb3A9MCB3ZWlnaHRwPTIga2V5aW50PTI1MCBrZXlpbnRfbWluPTI1IHNjZW5lY3V0PTQwIGludHJhX3JlZnJlc2g9MCByY19sb29rYWhlYWQ9NDAgcmM9Y3JmIG1idHJlZT0xIGNyZj0yMy4wIHFjb21wPTAuNjAgcXBtaW49MCBxcG1heD02OSBxcHN0ZXA9NCBpcF9yYXRpbz0xLjQwIGFxPTE6MS4wMACAAAAB9mWIhAAv//72rvzLK0cLlS4dWXuzUfLoSXL9iDB9aAAAAwAAAwAAJuKiZ0WFMeJsgAAALmAIWElDyDzETFWKvTAZoCvg5lC0AEBvKA1eoHrVJ2HMEQEKkCHK5Skqxx86DqFvO6t7PJi3ueWpW1KWAyvFMSCZ7jSdhpv5SsRxh5ZPmTV1iHbS2OxtjZdK/NFcElvhC9CFj5OAPL/XHZQIX/4Tpjc5wM7YfNJRj2MZljAY36irAJJuph3n4gyO+/qnTDk2SS130yztQ2dpqzD3/8mjMf4chiQTf9GUSrnl4C2HOmdd5kvzo0ME5cLHBsB4y+2SiA/qMiWs5MVcBu9o3zuEnbB9bw7I8LDzsEtinmC6d605Yn7NsgF255cAJlJMrgHI3yPAWPho/9KkIMf0MT55R2U9NNiKfC5QCcSRyVG+q5LK8fqigy/aZhX2m3PkGOPLNCLoScqIvaWymy+upwdvbccBVcuu1ZpPPVAVlPV1oEvD6GSntzBQbZmBzn5a/8GSazs4WQ4GrOT7HMAm5iMU8qyXL25ewb4gowjEEGpjwAsI0PqrBYjdMqBu14bq2ACJbCZJO3gptCLrO9NdTiCz+Oq2swAcbEvpQYdWl37c38/TWF7U3WcRZXI52AsVNe22EenBLC6s9H+fvwAAAwAAAwAAJ+EAAADvQZokbEL//oywAABGCuZzgAsPjVvUjzIQfSzDluTUWLxrbbasOUtWXJ+SPmct71f2DQea3oFYkNpsZ5504HhAtOGtqU4fiwvLJPX0hZJsZub/BvkrCEN92eXSnCWodKhTTn4V2A16NJ6ECXGaLEnSPXBV5pX4O9oKk4P2HMql8WyvA0mRnt53NWMFgo6TTbiV0B3/8Z/5GRvRUdmthzKDSU3Q80euGZIEADOKabxrTKe+Px9S6Keomq6dz+SNqD+jkIPUy+wmCQQiNNXgm1Ypm4oIyXlOR575Vzmow2qYAE5aaLcxzOgkpWFUGDxZcYAAAABeQZ5CeIR/AAAWpVenWRPFMHvj2JSyAQfL/ZL5vToa+5dF78h3jhX6S7ZnuGBjA0tsqKq7SBJkmVzSsaAONmlZLzPpxvgXy0ZwrQEN2yEDv6kwAAADAANBI/UjXCBHwQAAADcBnmF0R/8AAA1/Xw0te7zbWJ+Da1BZZAJZejJ9XV8ayTvO06GOC/m40xUAAAMAABGC/cN3IgIuAAAAVAGeY2pH/wAAI6OozYWlO70jw94xBIid+6fs5yohTL+cJPkG9fGpIkHXKdvP4AjIvgwo/VYLi8CaxTmdJbSMAcXp+B+vCtUShRAAAIuDpnjllKoB/wAAAMFBmmZJqEFomUwU8L/+jLAAAEYl8Zl3cAVuFoFlswWY18o9zt5VsLa8aXPd7AWI8muv9I3f/fX/TkTflMPtVKxHJOyQuZBAlbTJ94qRo73FNhJ9BLnhDX39psuX/Fn4gDOPrdzNPFr8iXj0s8vUUu9s1Op/joL1p87YJxPT2GMg0rJLhPrCxZgyRUzNl1MQyUiWWmPCOPXpH5GNZr4bUe8fvgMhJa++Bk/ZvGQl0YoEevxKTiN8aDRpEQTYN5GgOf2xAAAAXAGehWpH/wAAIz1q3Zdus5TDUUatznaOw4iXTQ65sL1VhyiedFTABJj6Wq7h2+PbUIOhwAbAOQA4/UZxwn5dE8efflSsDQkzkStdBmMWTd1cXTV3xfm1UGDxEIOBAAAAcUGah0nhClJlMCF//oywAABGKZRSHgXEWptoAAbrmIJxMFbDyCaJzyghDhiPabeyDe1BvLVwykEOJSpzOK7/e4Hmlmmuq1uctCUOvIAfEcCFKa5JgPg5PfUKViGLaZx8K9Fy9lmLa07oS3vOnw7c2HHRAAAAn0Gaq0nhDomUwIX//oywAABGFERHLPoA5RloyagdzGflRKHsoRxbdHqeCxFBbfwP5mIXOh317h+knz8schpA9i12PJvgE6XQTFD3p1lfPuJS7S7dbnAekMg3d05rdQy6MVRIVrFRExwugRT2eZ7PUCqB8z/dfWEj1V0x6W+WNd+uT28oMw3u96PnyugpJse+jUOlLLw78rw7XnlXf2nRNQAAAF5BnslFETwj/wAAFm5PLd5oTGq6mYEOPZExpvo1ZLzMd5FpCO6D5YpBLYll7YDeVbzTAgoev7CQAPbruPUzUYlVQzGHwlAR2l2NgBByEyavxkvwZ/+yBUVVYkLzsAbMAAAAOQGe6HRH/wAAI6v4XDY8hUQXPMdpWsjCVxpV8EU3iFMuNTSPj84Dno7lRyfXmINaops4bZch0uBJwQAAADMBnupqR/8AACK/H4lCanJtmIG4k+S7s7jaho5jc4MNbKkVGFTtT9C9rei2kZlUsx4zwUEAAACOQZrvSahBaJlMCF///oywAABGQuJMrDHJM6eHkba+cjwRGwQkk3X9blSymJKuiSF3LVJckeLWrpk7H7Oy2ivSeY3QTxpN4AIgTv7SLNkTUf5TMWicD6wkgK3rgiJp+ET0VmFET2IwveW+9OLntBg9rFTtEGOQKHfXS1mP/gbu9igbE61T5XR3CacTIf+5gAAAAFVBnw1FESwj/wAAFsifgCt936swyAKN58XzqcX4HFQckKoa1+AKHgEkI1NITtlblYhJU3dmhfCT4MJjrG7qUPJdniC9TIZRhqqs1I0RZqcdq4Sb27JxAAAAQQGfLHRH/wAAI6w5YEZLMBAX3iOvCHSjqLs+xUCu/Vxb2MAlOAs+gAieSjjABLQpWqrRZLzYvTHq2LVXkVTpdAYtAAAAVwGfLmpH/wAADYWRpb9gVbjA+cXG0pbjjOw52IIwhmMUB+HVMaAxyVQkSuMhWNAA2VH47FWMvXuW8iOaqK+yFm2jKmoslf+UvdXYNq9SsPxgIhO+rihUwQAAAJNBmzJJqEFsmUwIX//+jLAAAEYHuQAR1KTJIeVvidbd4kWByYxy9t9GKgBjVwuMgAmYrYAdhnkxLjo9wIt37GZCpb3diP9jcw7TJQrWExaT7eZQQ5fpR8MEkdompmUTHmc5j+Vq/J+usiv7AyvyWTcwWoRcJQStQ7N/1m2PvZNl3tYrkIvUSV0yeGTW7TtWVcU/BGQAAABSQZ9QRRUsI/8AABa8PrMHEF0bN39rs/R8/LnbCLfA1RPRcD4sW9JL2tZYZin63IxO/tMcFgA2gcbePGMp7rSkIh5/6Z0agnSA5JFIHDaWOI7JwAAAAEoBn3FqR/8AAA10t22gAQub8nRmSXL5WxAALYjkMrIWNNYMx/Oaq+f6eFCRXLGj7VtP/xHcuklv1Ez2kJ0wX0N8aDfN1h5L1hEDwQAAAHNBm3ZJqEFsmUwIV//+OEAAAQ06Nk4sALD5wK+Hz0ewKvjRgMlEy4aItfgubWc5IgqP87aI6PmIGOwniVfiPmSx+/Ts7DCterHpVn/b43727ilcrVKczdfxbAmRZ2LYGbHYi1BEocheszSqUJCLGEa/Qo9wAAAAXUGflEUVLCP/AAAWu5YqQA49U+arOvGk9/GkwyVS9fk39Fq+K6FHdaqVKWRgx5Ezh2U3lrLcGqrPRTwWMm3QxL+Aw2t5LAMCyPaeRPMTLfXrQl5EmjG2hglzbjEuVAAAAEQBn7N0R/8AACPAuDJt3RMa4k/isLAzz7r4IDDpmoWL0S8xzwhd6PcUT//et2ZKnkVXVKCJrIKv0rS5Q+bFBe0rst7AQQAAADoBn7VqR/8AAA1/to5YEFHRhYq/GPrXnXenbp4AJY/M+CSPDASvUfn9smFx7unH5YCL1OTRgI0FbxEqAAAAnEGbuEmoQWyZTBRMK//+OEAAAQ0qUBYARjNkEccgIZR6SO961aGVqicRM48/PfCzLD10zBvyu5sGbb/a+aJ/6XhWu8pWMcNPFuocImfasIE6crHplDTv8CnmXv3a7CgM7evBqm8DpWcUt+YcVkgHHwMhUxze6dFvGf1F5orzsIA1PB2/X4itBhYC3ZHBRTDK4MVTsbL3TGSkEwT8QQAAADwBn9dqR/8AACOx15O/FsmxzQOLAnFR64YAJY/Yfs5bPuG5bp6BorWx5kVuZIgJhVoQD4KOgaW+frvQHbEAAACEQZvZSeEKUmUwIV/+OEAAAQVRPMz/F5bCZJTHQchRQAcbOPVCpsrBJrzLveyQ8PxDZ42xddr2uTEour6pufduu06WwasVmS8VJ94nbfl7chdZ9r57ZTvlzX2KKHrpr8rDBG8Hr9JjKm6eOgJmK4x83wx+RRNL8f4jLraClRaYk8hmJmkNAAAAt0Gb+0nhDomUwU0TCP/94QAABBR6IlACLkbhE5Wn6yYd92PF5ntpUIZQ3gIQd+xODy5fh82oZX/79Zkzxu59OF/Py+Oza6X3ZAA5vEP+sBSD0IHoTfz+4FhHecdq/kTA+cx7+JS1l4r1x1QY5jvEUoXb6MPBxR+mprH5qcbbKZ+2Me1Qn1U0U1fYCBC5RCR8R+2KiKamW62TeQCt5pbbqaodaHBXcjq4BUWwec/7RjRvldqTFMZQUQAAAGQBnhpqR/8AACOuKZ6yAIKqYEPnd0ujUXqw5V2X1PCZRkD/hY4q/WclUelumCZc3CtdLEy7Ot04KM8mJR+qGfQFCLR9qe+jruoag5v7avAbaXhhzD+4CJaIRVpjq/YaiAUu6Xg4AAAAhEGaHEnhDyZTAj///IQAAA/ZpmNAVr1LQ5MwjnG1GCU8bZrbUOJsBc3M2MU7LIU4F/wAtZ+l1yDUOos38gpZA3rTW5IStDPY3KCVofKzHtfeIgzNPoZw5hEOEdvD6B10vHbEiejcFLmC8BQTqlgU+X8JoSZFzRi1N4Y8MyGWb6eyTwL/EQAABGdtb292AAAAbG12aGQAAAAAAAAAAAAAAAAAAAPoAAACRAABAAABAAAAAAAAAAAAAAAAAQAAAAAAAAAAAAAAAAAAAAEAAAAAAAAAAAAAAAAAAEAAAAAAAAAAAAAAAAAAAAAAAAAAAAAAAAAAAAAAAAACAAADkXRyYWsAAABcdGtoZAAAAAMAAAAAAAAAAAAAAAEAAAAAAAACRAAAAAAAAAAAAAAAAAAAAAAAAQAAAAAAAAAAAAAAAAAAAAEAAAAAAAAAAAAAAAAAAEAAAAACWAAAAZAAAAAAACRlZHRzAAAAHGVsc3QAAAAAAAAAAQAAAkQAAAIAAAEAAAAAAwltZGlhAAAAIG1kaGQAAAAAAAAAAAAAAAAAADIAAAAdAFXEAAAAAAAtaGRscgAAAAAAAAAAdmlkZQAAAAAAAAAAAAAAAFZpZGVvSGFuZGxlcgAAAAK0bWluZgAAABR2bWhkAAAAAQAAAAAAAAAAAAAAJGRpbmYAAAAcZHJlZgAAAAAAAAABAAAADHVybCAAAAABAAACdHN0YmwAAACYc3RzZAAAAAAAAAABAAAAiGF2YzEAAAAAAAAAAQAAAAAAAAAAAAAAAAAAAAACWAGQAEgAAABIAAAAAAAAAAEAAAAAAAAAAAAAAAAAAAAAAAAAAAAAAAAAAAAAAAAAAAAY//8AAAAyYXZjQwFkAB//4QAZZ2QAH6zZQJgz5eEAAAMAAQAAAwBkDxgxlgEABmjr48siwAAAABhzdHRzAAAAAAAAAAEAAAAdAAABAAAAABRzdHNzAAAAAAAAAAEAAAABAAAA8GN0dHMAAAAAAAAAHAAAAAEAAAIAAAAAAQAABQAAAAABAAACAAAAAAEAAAAAAAAAAQAAAQAAAAABAAADAAAAAAEAAAEAAAAAAQAAAgAAAAABAAAFAAAAAAEAAAIAAAAAAQAAAAAAAAABAAABAAAAAAEAAAUAAAAAAQAAAgAAAAABAAAAAAAAAAEAAAEAAAAAAQAABAAAAAACAAABAAAAAAEAAAUAAAAAAQAAAgAAAAABAAAAAAAAAAEAAAEAAAAAAQAAAwAAAAABAAABAAAAAAEAAAIAAAAAAQAAAwAAAAABAAABAAAAAAEAAAIAAAAAHHN0c2MAAAAAAAAAAQAAAAEAAAAdAAAAAQAAAIhzdHN6AAAAAAAAAAAAAAAdAAAErAAAAPMAAABiAAAAOwAAAFgAAADFAAAAYAAAAHUAAACjAAAAYgAAAD0AAAA3AAAAkgAAAFkAAABFAAAAWwAAAJcAAABWAAAATgAAAHcAAABhAAAASAAAAD4AAACgAAAAQAAAAIgAAAC7AAAAaAAAAIgAAAAUc3RjbwAAAAAAAAABAAAAMAAAAGJ1ZHRhAAAAWm1ldGEAAAAAAAAAIWhkbHIAAAAAAAAAAG1kaXJhcHBsAAAAAAAAAAAAAAAALWlsc3QAAAAlqXRvbwAAAB1kYXRhAAAAAQAAAABMYXZmNTcuODMuMTAw\" type=\"video/mp4\" />\n",
              "             </video>"
            ],
            "text/plain": [
              "<IPython.core.display.HTML object>"
            ]
          },
          "metadata": {
            "tags": []
          }
        }
      ]
    },
    {
      "cell_type": "markdown",
      "metadata": {
        "id": "63rhqwXVhHAJ"
      },
      "source": [
        "# Policy Gradient Algorithm Experimentation"
      ]
    },
    {
      "cell_type": "code",
      "metadata": {
        "colab": {
          "base_uri": "https://localhost:8080/"
        },
        "cellView": "form",
        "id": "q0DuGYbwew9a",
        "outputId": "c5dd8bc0-3984-4ce2-b65b-72a815cca689"
      },
      "source": [
        "#@title Imports\n",
        "from importlib import reload\n",
        "import gym\n",
        "\n",
        "import pg_agent\n",
        "import MLP_policy\n",
        "reload(MLP_policy)\n",
        "reload(pg_agent)\n",
        "from pg_agent import *\n",
        "\n",
        "import utils\n",
        "reload(utils)"
      ],
      "execution_count": 13,
      "outputs": [
        {
          "output_type": "execute_result",
          "data": {
            "text/plain": [
              "<module 'utils' from '/content/gdrive/My Drive/DeepRL_Experimentation/utils.py'>"
            ]
          },
          "metadata": {
            "tags": []
          },
          "execution_count": 13
        }
      ]
    },
    {
      "cell_type": "markdown",
      "metadata": {
        "id": "Om_tkgKs8IYX"
      },
      "source": [
        "## REINFORCE Algorithm Experimentation"
      ]
    },
    {
      "cell_type": "code",
      "metadata": {
        "colab": {
          "base_uri": "https://localhost:8080/"
        },
        "id": "CxBhzPAqJ2dM",
        "outputId": "76a939f2-e2e8-4839-b847-6fcc5b84ca26"
      },
      "source": [
        "env = gym.make(\"CartPole-v1\")\n",
        "\n",
        "actor_params = {\\\n",
        "\"ac_dim\": env.action_space.n,\\\n",
        "\"ob_dim\": env.observation_space.shape[0],\\\n",
        "\"n_layers\": 5,\\\n",
        "\"hidden_layer_size\": 100,\\\n",
        "\"learning_rate\": 1e-4}\n",
        "\n",
        "agent_params = {\\\n",
        "\"actor_params\": actor_params}\n",
        "\n",
        "reinforce_agent = REINFORCEAgent(agent_params)\n",
        "\n",
        "print(f\"E[rewards_sum] before training: {utils.expected_rewards_sum(env, reinforce_agent.actor, env._max_episode_steps, 200)}\")\n",
        "\n",
        "# Training Loop\n",
        "for i in range(150):\n",
        "  print(i, end = \",\")\n",
        "  trajectories = utils.sample_trajectories(env, reinforce_agent.actor, env._max_episode_steps, 5000)\n",
        "  reinforce_agent.train(trajectories)\n",
        "\n",
        "print(f\"\\nE[rewards_sum] after training: {utils.expected_rewards_sum(env, reinforce_agent.actor, env._max_episode_steps, 200)}\")"
      ],
      "execution_count": 26,
      "outputs": [
        {
          "output_type": "stream",
          "text": [
            "E[rewards_sum] before training: 20.25\n",
            "0,1,2,3,4,5,6,7,8,9,10,11,12,13,14,15,16,17,18,19,20,21,22,23,24,25,26,27,28,29,30,31,32,33,34,35,36,37,38,39,40,41,42,43,44,45,46,47,48,49,50,51,52,53,54,55,56,57,58,59,60,61,62,63,64,65,66,67,68,69,70,71,72,73,74,75,76,77,78,79,80,81,82,83,84,85,86,87,88,89,90,91,92,93,94,95,96,97,98,99,100,101,102,103,104,105,106,107,108,109,110,111,112,113,114,115,116,117,118,119,120,121,122,123,124,125,126,127,128,129,130,131,132,133,134,135,136,137,138,139,140,141,142,143,144,145,146,147,148,149,\n",
            "E[rewards_sum] after training: 49.015\n"
          ],
          "name": "stdout"
        }
      ]
    },
    {
      "cell_type": "markdown",
      "metadata": {
        "id": "DhIpeef189Em"
      },
      "source": [
        "## General Policy Gradient Algorithm Experimentation"
      ]
    },
    {
      "cell_type": "code",
      "metadata": {
        "colab": {
          "base_uri": "https://localhost:8080/"
        },
        "id": "Hy06fCch9Lvx",
        "outputId": "ed2304c9-239e-43db-d180-c24d6c8fc077"
      },
      "source": [
        "env = gym.make(\"CartPole-v1\")\n",
        "\n",
        "actor_params = {\\\n",
        "\"ac_dim\": env.action_space.n,\\\n",
        "\"ob_dim\": env.observation_space.shape[0],\\\n",
        "\"n_layers\": 5,\\\n",
        "\"hidden_layer_size\": 100,\\\n",
        "\"learning_rate\": 1e-4}\n",
        "\n",
        "agent_params = {\\\n",
        "\"actor_params\": actor_params}\n",
        "\n",
        "pg_agent = PGAgent(agent_params)\n",
        "\n",
        "print(f\"E[rewards_sum] before training: {utils.expected_rewards_sum(env, pg_agent.actor, env._max_episode_steps, 200)}\")\n",
        "\n",
        "# Training Loop\n",
        "for i in range(150):\n",
        "  print(i, end = \",\")\n",
        "  trajectories = utils.sample_trajectories(env, pg_agent.actor, env._max_episode_steps, 5000)\n",
        "  pg_agent.train(trajectories)\n",
        "\n",
        "print(f\"\\nE[rewards_sum] after training: {utils.expected_rewards_sum(env, pg_agent.actor, env._max_episode_steps, 200)}\")"
      ],
      "execution_count": 22,
      "outputs": [
        {
          "output_type": "stream",
          "text": [
            "E[rewards_sum] before training: 21.67\n",
            "0,1,2,3,4,5,6,7,8,9,10,11,12,13,14,15,16,17,18,19,20,21,22,23,24,25,26,27,28,29,30,31,32,33,34,35,36,37,38,39,40,41,42,43,44,45,46,47,48,49,50,51,52,53,54,55,56,57,58,59,60,61,62,63,64,65,66,67,68,69,70,71,72,73,74,75,76,77,78,79,80,81,82,83,84,85,86,87,88,89,90,91,92,93,94,95,96,97,98,99,100,101,102,103,104,105,106,107,108,109,110,111,112,113,114,115,116,117,118,119,120,121,122,123,124,125,126,127,128,129,130,131,132,133,134,135,136,137,138,139,140,141,142,143,144,145,146,147,148,149,\n",
            "E[rewards_sum] after training: 205.29\n"
          ],
          "name": "stdout"
        }
      ]
    },
    {
      "cell_type": "markdown",
      "metadata": {
        "id": "5-2cvEe_ncND"
      },
      "source": [
        "## Show Results"
      ]
    },
    {
      "cell_type": "code",
      "metadata": {
        "colab": {
          "base_uri": "https://localhost:8080/",
          "height": 421
        },
        "id": "ruSCGDqgwHjz",
        "outputId": "0326bb42-a2fa-489e-9f2a-6b53b84deacb"
      },
      "source": [
        "from colab_utils import (\n",
        "    wrap_env,\n",
        "    show_video\n",
        ")\n",
        "\n",
        "envw = wrap_env(env)\n",
        "\n",
        "ob = envw.reset()\n",
        "for i in range(500):\n",
        "  envw.render(mode='rgb_array')\n",
        "  ob, reward, done, _ = envw.step(pg_agent.actor.get_action(ob)) \n",
        "  if done:\n",
        "    break;\n",
        "            \n",
        "envw.close()\n",
        "show_video()"
      ],
      "execution_count": 28,
      "outputs": [
        {
          "output_type": "display_data",
          "data": {
            "text/html": [
              "<video alt=\"test\" autoplay \n",
              "                loop controls style=\"height: 400px;\">\n",
              "                <source src=\"data:video/mp4;base64,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\" type=\"video/mp4\" />\n",
              "             </video>"
            ],
            "text/plain": [
              "<IPython.core.display.HTML object>"
            ]
          },
          "metadata": {
            "tags": []
          }
        }
      ]
    }
  ]
}