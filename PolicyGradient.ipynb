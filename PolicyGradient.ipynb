{
  "nbformat": 4,
  "nbformat_minor": 0,
  "metadata": {
    "kernelspec": {
      "display_name": "Python 3",
      "language": "python",
      "name": "python3"
    },
    "language_info": {
      "codemirror_mode": {
        "name": "ipython",
        "version": 3
      },
      "file_extension": ".py",
      "mimetype": "text/x-python",
      "name": "python",
      "nbconvert_exporter": "python",
      "pygments_lexer": "ipython3",
      "version": "3.6.9"
    },
    "colab": {
      "name": "PolicyGradient.ipynb",
      "provenance": [],
      "collapsed_sections": [],
      "include_colab_link": true
    }
  },
  "cells": [
    {
      "cell_type": "markdown",
      "metadata": {
        "id": "view-in-github",
        "colab_type": "text"
      },
      "source": [
        "<a href=\"https://colab.research.google.com/github/aditya-shriwastava/DeepRL_Experimentation/blob/master/PolicyGradient.ipynb\" target=\"_parent\"><img src=\"https://colab.research.google.com/assets/colab-badge.svg\" alt=\"Open In Colab\"/></a>"
      ]
    },
    {
      "cell_type": "markdown",
      "metadata": {
        "id": "j-rDHeZPyI6v"
      },
      "source": [
        "# Setup the project in Google Colab"
      ]
    },
    {
      "cell_type": "code",
      "metadata": {
        "colab": {
          "base_uri": "https://localhost:8080/",
          "height": 0
        },
        "id": "bDCs5BAXqVvM",
        "outputId": "30d36238-7740-42e2-a111-85193ac6d536"
      },
      "source": [
        "#@title Mount the project in Google Colab\n",
        "\n",
        "GUEST = False\n",
        "PROJECT = 'DeepRL_Experimentation'\n",
        "\n",
        "import os\n",
        "if GUEST:\n",
        "  !git clone https://github.com/aditya-shriwastava/DeepRL_Experimentation.git\n",
        "else:\n",
        "  # Mount Google Drive\n",
        "  from google.colab import drive\n",
        "  drive.mount('/content/gdrive')\n",
        "\n",
        "  # Setup Symlink to project folder\n",
        "  DRIVE_PATH = '/content/gdrive/My\\ Drive/' + PROJECT\n",
        "  SYM_PATH = '/content/' + PROJECT\n",
        "  if not os.path.exists(SYM_PATH):\n",
        "    !ln -s $DRIVE_PATH $SYM_PATH\n",
        "\n",
        "os.chdir( '/content/' + PROJECT)"
      ],
      "execution_count": 1,
      "outputs": [
        {
          "output_type": "stream",
          "text": [
            "Mounted at /content/gdrive\n"
          ],
          "name": "stdout"
        }
      ]
    },
    {
      "cell_type": "code",
      "metadata": {
        "id": "7gePCUf_4XbC",
        "cellView": "form"
      },
      "source": [
        "#@title apt install requirements\n",
        "\n",
        "!apt update > /dev/null 2>&1\n",
        "!apt install -y --no-install-recommends \\\n",
        "        build-essential \\\n",
        "        curl \\\n",
        "        git \\\n",
        "        gnupg2 \\\n",
        "        make \\\n",
        "        cmake \\\n",
        "        ffmpeg \\\n",
        "        swig \\\n",
        "        libz-dev \\\n",
        "        unzip \\\n",
        "        zlib1g-dev \\\n",
        "        libglfw3 \\\n",
        "        libglfw3-dev \\\n",
        "        libxrandr2 \\\n",
        "        libxinerama-dev \\\n",
        "        libxi6 \\\n",
        "        libxcursor-dev \\\n",
        "        libgl1-mesa-dev \\\n",
        "        libgl1-mesa-glx \\\n",
        "        libglew-dev \\\n",
        "        libosmesa6-dev \\\n",
        "        lsb-release \\\n",
        "        ack-grep \\\n",
        "        patchelf \\\n",
        "        wget \\\n",
        "        xpra \\\n",
        "        xserver-xorg-dev \\\n",
        "        xvfb \\\n",
        "        python-opengl \\\n",
        "        ffmpeg > /dev/null 2>&1"
      ],
      "execution_count": 2,
      "outputs": []
    },
    {
      "cell_type": "code",
      "metadata": {
        "id": "l6BxVwld5szD",
        "cellView": "form"
      },
      "source": [
        "#@title pip install requirements\n",
        "\n",
        "!pip install pyvirtualdisplay > /dev/null 2>&1\n",
        "!pip3 install box2d-py > /dev/null 2>&1\n",
        "!pip install Box2D > /dev/null 2>&1"
      ],
      "execution_count": 3,
      "outputs": []
    },
    {
      "cell_type": "code",
      "metadata": {
        "colab": {
          "base_uri": "https://localhost:8080/",
          "height": 0
        },
        "id": "W8Ys-gbVvbN_",
        "cellView": "form",
        "outputId": "b69a5cfa-5dd9-4302-b54e-2779c0df54c0"
      },
      "source": [
        "#@title Setup Virtual Display\n",
        "\n",
        "from pyvirtualdisplay import Display\n",
        "\n",
        "display = Display(visible=0, size=(1400, 900))\n",
        "display.start()"
      ],
      "execution_count": 4,
      "outputs": [
        {
          "output_type": "execute_result",
          "data": {
            "text/plain": [
              "<pyvirtualdisplay.display.Display at 0x7f425e8cc850>"
            ]
          },
          "metadata": {
            "tags": []
          },
          "execution_count": 4
        }
      ]
    },
    {
      "cell_type": "markdown",
      "metadata": {
        "id": "3zeBQSTD0RaQ"
      },
      "source": [
        "# Test if setup is completed and working properly"
      ]
    },
    {
      "cell_type": "code",
      "metadata": {
        "colab": {
          "base_uri": "https://localhost:8080/",
          "height": 421
        },
        "id": "pr0-ps7hvvUw",
        "outputId": "781edf8e-1be2-4b91-c04f-7f21e54902fe"
      },
      "source": [
        "import gym\n",
        "from colab_utils import (\n",
        "    wrap_env,\n",
        "    show_video\n",
        ") \n",
        "\n",
        "env = wrap_env(gym.make(\"CartPole-v1\"))\n",
        "\n",
        "observation = env.reset()\n",
        "for i in range(100):\n",
        "    env.render(mode='rgb_array')\n",
        "    obs, rew, term, _ = env.step(env.action_space.sample() ) \n",
        "    if term:\n",
        "      break;\n",
        "            \n",
        "env.close()\n",
        "show_video()"
      ],
      "execution_count": 5,
      "outputs": [
        {
          "output_type": "display_data",
          "data": {
            "text/html": [
              "<video alt=\"test\" autoplay \n",
              "                loop controls style=\"height: 400px;\">\n",
              "                <source src=\"data:video/mp4;base64,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\" type=\"video/mp4\" />\n",
              "             </video>"
            ],
            "text/plain": [
              "<IPython.core.display.HTML object>"
            ]
          },
          "metadata": {
            "tags": []
          }
        }
      ]
    },
    {
      "cell_type": "markdown",
      "metadata": {
        "id": "63rhqwXVhHAJ"
      },
      "source": [
        "# Policy Gradient Experimentation"
      ]
    }
  ]
}