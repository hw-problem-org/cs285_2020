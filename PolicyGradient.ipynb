{
  "nbformat": 4,
  "nbformat_minor": 0,
  "metadata": {
    "kernelspec": {
      "display_name": "Python 3",
      "language": "python",
      "name": "python3"
    },
    "language_info": {
      "codemirror_mode": {
        "name": "ipython",
        "version": 3
      },
      "file_extension": ".py",
      "mimetype": "text/x-python",
      "name": "python",
      "nbconvert_exporter": "python",
      "pygments_lexer": "ipython3",
      "version": "3.6.9"
    },
    "colab": {
      "name": "PolicyGradient.ipynb",
      "provenance": [],
      "collapsed_sections": [],
      "include_colab_link": true
    }
  },
  "cells": [
    {
      "cell_type": "markdown",
      "metadata": {
        "id": "view-in-github",
        "colab_type": "text"
      },
      "source": [
        "<a href=\"https://colab.research.google.com/github/aditya-shriwastava/DeepRL_Experimentation/blob/master/PolicyGradient.ipynb\" target=\"_parent\"><img src=\"https://colab.research.google.com/assets/colab-badge.svg\" alt=\"Open In Colab\"/></a>"
      ]
    },
    {
      "cell_type": "markdown",
      "metadata": {
        "id": "j-rDHeZPyI6v"
      },
      "source": [
        "# Mount the project in Google Colab"
      ]
    },
    {
      "cell_type": "code",
      "metadata": {
        "colab": {
          "base_uri": "https://localhost:8080/"
        },
        "id": "bDCs5BAXqVvM",
        "outputId": "9835d321-ec7b-43de-e319-91905caaf1b2"
      },
      "source": [
        "GUEST = False\n",
        "PROJECT = 'DeepRL_Experimentation'\n",
        "\n",
        "import os\n",
        "if GUEST:\n",
        "  !git clone https://github.com/aditya-shriwastava/DeepRL_Experimentation.git\n",
        "else:\n",
        "  # Mount Google Drive\n",
        "  from google.colab import drive\n",
        "  drive.mount('/content/gdrive')\n",
        "\n",
        "  # Setup Symlink to project folder\n",
        "  DRIVE_PATH = '/content/gdrive/My\\ Drive/' + PROJECT\n",
        "  SYM_PATH = '/content/' + PROJECT\n",
        "  if not os.path.exists(SYM_PATH):\n",
        "    !ln -s $DRIVE_PATH $SYM_PATH\n",
        "\n",
        "os.chdir( '/content/' + PROJECT)"
      ],
      "execution_count": 1,
      "outputs": [
        {
          "output_type": "stream",
          "text": [
            "Cloning into 'DeepRL_Experimentation'...\n",
            "remote: Enumerating objects: 14, done.\u001b[K\n",
            "remote: Counting objects: 100% (14/14), done.\u001b[K\n",
            "remote: Compressing objects: 100% (13/13), done.\u001b[K\n",
            "remote: Total 14 (delta 5), reused 6 (delta 1), pack-reused 0\u001b[K\n",
            "Unpacking objects: 100% (14/14), done.\n"
          ],
          "name": "stdout"
        }
      ]
    },
    {
      "cell_type": "code",
      "metadata": {
        "cellView": "form",
        "id": "7gePCUf_4XbC"
      },
      "source": [
        "#@title apt install requirements\n",
        "\n",
        "!apt update > /dev/null 2>&1\n",
        "!apt install -y --no-install-recommends \\\n",
        "        build-essential \\\n",
        "        curl \\\n",
        "        git \\\n",
        "        gnupg2 \\\n",
        "        make \\\n",
        "        cmake \\\n",
        "        ffmpeg \\\n",
        "        swig \\\n",
        "        libz-dev \\\n",
        "        unzip \\\n",
        "        zlib1g-dev \\\n",
        "        libglfw3 \\\n",
        "        libglfw3-dev \\\n",
        "        libxrandr2 \\\n",
        "        libxinerama-dev \\\n",
        "        libxi6 \\\n",
        "        libxcursor-dev \\\n",
        "        libgl1-mesa-dev \\\n",
        "        libgl1-mesa-glx \\\n",
        "        libglew-dev \\\n",
        "        libosmesa6-dev \\\n",
        "        lsb-release \\\n",
        "        ack-grep \\\n",
        "        patchelf \\\n",
        "        wget \\\n",
        "        xpra \\\n",
        "        xserver-xorg-dev \\\n",
        "        xvfb \\\n",
        "        python-opengl \\\n",
        "        ffmpeg > /dev/null 2>&1"
      ],
      "execution_count": 3,
      "outputs": []
    },
    {
      "cell_type": "code",
      "metadata": {
        "cellView": "form",
        "id": "l6BxVwld5szD"
      },
      "source": [
        "#@title pip install requirements\n",
        "\n",
        "!pip install pyvirtualdisplay > /dev/null 2>&1"
      ],
      "execution_count": 4,
      "outputs": []
    },
    {
      "cell_type": "code",
      "metadata": {
        "colab": {
          "base_uri": "https://localhost:8080/"
        },
        "id": "W8Ys-gbVvbN_",
        "cellView": "form",
        "outputId": "e096b539-404d-4957-c6a0-6dda6c1fc593"
      },
      "source": [
        "#@title Setup Virtual Display\n",
        "\n",
        "from pyvirtualdisplay import Display\n",
        "\n",
        "display = Display(visible=0, size=(1400, 900))\n",
        "display.start()"
      ],
      "execution_count": 5,
      "outputs": [
        {
          "output_type": "execute_result",
          "data": {
            "text/plain": [
              "<pyvirtualdisplay.display.Display at 0x7f1aacd2ba50>"
            ]
          },
          "metadata": {
            "tags": []
          },
          "execution_count": 5
        }
      ]
    },
    {
      "cell_type": "markdown",
      "metadata": {
        "id": "3zeBQSTD0RaQ"
      },
      "source": [
        "# Actual Code"
      ]
    },
    {
      "cell_type": "code",
      "metadata": {
        "colab": {
          "base_uri": "https://localhost:8080/",
          "height": 421
        },
        "id": "pr0-ps7hvvUw",
        "outputId": "81e7f5f9-ded3-40bb-ce88-bccb0d6588e6"
      },
      "source": [
        "import gym\n",
        "from colab_utils import (\n",
        "    wrap_env,\n",
        "    show_video\n",
        ") \n",
        "\n",
        "env = wrap_env(gym.make(\"CartPole-v1\"))\n",
        "\n",
        "observation = env.reset()\n",
        "for i in range(100):\n",
        "    env.render(mode='rgb_array')\n",
        "    obs, rew, term, _ = env.step(env.action_space.sample() ) \n",
        "    if term:\n",
        "      break;\n",
        "            \n",
        "env.close()\n",
        "show_video()"
      ],
      "execution_count": 6,
      "outputs": [
        {
          "output_type": "display_data",
          "data": {
            "text/html": [
              "<video alt=\"test\" autoplay \n",
              "                loop controls style=\"height: 400px;\">\n",
              "                <source src=\"data:video/mp4;base64,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\" type=\"video/mp4\" />\n",
              "             </video>"
            ],
            "text/plain": [
              "<IPython.core.display.HTML object>"
            ]
          },
          "metadata": {
            "tags": []
          }
        }
      ]
    }
  ]
}