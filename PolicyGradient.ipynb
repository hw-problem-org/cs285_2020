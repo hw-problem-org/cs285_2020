{
  "nbformat": 4,
  "nbformat_minor": 0,
  "metadata": {
    "kernelspec": {
      "display_name": "Python 3",
      "language": "python",
      "name": "python3"
    },
    "language_info": {
      "codemirror_mode": {
        "name": "ipython",
        "version": 3
      },
      "file_extension": ".py",
      "mimetype": "text/x-python",
      "name": "python",
      "nbconvert_exporter": "python",
      "pygments_lexer": "ipython3",
      "version": "3.6.9"
    },
    "colab": {
      "name": "PolicyGradient.ipynb",
      "provenance": [],
      "collapsed_sections": [],
      "include_colab_link": true
    }
  },
  "cells": [
    {
      "cell_type": "markdown",
      "metadata": {
        "id": "view-in-github",
        "colab_type": "text"
      },
      "source": [
        "<a href=\"https://colab.research.google.com/github/aditya-shriwastava/DeepRL_Experimentation/blob/master/PolicyGradient.ipynb\" target=\"_parent\"><img src=\"https://colab.research.google.com/assets/colab-badge.svg\" alt=\"Open In Colab\"/></a>"
      ]
    },
    {
      "cell_type": "markdown",
      "metadata": {
        "id": "j-rDHeZPyI6v"
      },
      "source": [
        "# Setup the project in Google Colab"
      ]
    },
    {
      "cell_type": "code",
      "metadata": {
        "colab": {
          "base_uri": "https://localhost:8080/"
        },
        "id": "bDCs5BAXqVvM",
        "outputId": "0cae6464-1eaf-4518-b2e9-ef192222b576"
      },
      "source": [
        "#@title Mount the project in Google Colab\n",
        "\n",
        "GUEST = False\n",
        "PROJECT = 'DeepRL_Experimentation'\n",
        "\n",
        "import os\n",
        "if GUEST:\n",
        "  !git clone https://github.com/aditya-shriwastava/DeepRL_Experimentation.git\n",
        "else:\n",
        "  # Mount Google Drive\n",
        "  from google.colab import drive\n",
        "  drive.mount('/content/gdrive')\n",
        "\n",
        "  # Setup Symlink to project folder\n",
        "  DRIVE_PATH = '/content/gdrive/My\\ Drive/' + PROJECT\n",
        "  SYM_PATH = '/content/' + PROJECT\n",
        "  if not os.path.exists(SYM_PATH):\n",
        "    !ln -s $DRIVE_PATH $SYM_PATH\n",
        "\n",
        "os.chdir( '/content/' + PROJECT)"
      ],
      "execution_count": 1,
      "outputs": [
        {
          "output_type": "stream",
          "text": [
            "Mounted at /content/gdrive\n"
          ],
          "name": "stdout"
        }
      ]
    },
    {
      "cell_type": "code",
      "metadata": {
        "id": "7gePCUf_4XbC",
        "cellView": "form"
      },
      "source": [
        "#@title apt install requirements\n",
        "\n",
        "!apt update > /dev/null 2>&1\n",
        "!apt install -y --no-install-recommends \\\n",
        "        build-essential \\\n",
        "        curl \\\n",
        "        git \\\n",
        "        gnupg2 \\\n",
        "        make \\\n",
        "        cmake \\\n",
        "        ffmpeg \\\n",
        "        swig \\\n",
        "        libz-dev \\\n",
        "        unzip \\\n",
        "        zlib1g-dev \\\n",
        "        libglfw3 \\\n",
        "        libglfw3-dev \\\n",
        "        libxrandr2 \\\n",
        "        libxinerama-dev \\\n",
        "        libxi6 \\\n",
        "        libxcursor-dev \\\n",
        "        libgl1-mesa-dev \\\n",
        "        libgl1-mesa-glx \\\n",
        "        libglew-dev \\\n",
        "        libosmesa6-dev \\\n",
        "        lsb-release \\\n",
        "        ack-grep \\\n",
        "        patchelf \\\n",
        "        wget \\\n",
        "        xpra \\\n",
        "        xserver-xorg-dev \\\n",
        "        xvfb \\\n",
        "        python-opengl \\\n",
        "        ffmpeg > /dev/null 2>&1"
      ],
      "execution_count": 2,
      "outputs": []
    },
    {
      "cell_type": "code",
      "metadata": {
        "id": "l6BxVwld5szD",
        "cellView": "form"
      },
      "source": [
        "#@title pip install requirements\n",
        "\n",
        "!pip install pyvirtualdisplay > /dev/null 2>&1\n",
        "!pip3 install box2d-py > /dev/null 2>&1\n",
        "!pip install Box2D > /dev/null 2>&1"
      ],
      "execution_count": 3,
      "outputs": []
    },
    {
      "cell_type": "code",
      "metadata": {
        "colab": {
          "base_uri": "https://localhost:8080/"
        },
        "id": "W8Ys-gbVvbN_",
        "cellView": "form",
        "outputId": "f8ba2774-7c89-48d0-ae9a-e378fb278689"
      },
      "source": [
        "#@title Setup Virtual Display\n",
        "\n",
        "from pyvirtualdisplay import Display\n",
        "\n",
        "display = Display(visible=0, size=(1400, 900))\n",
        "display.start()"
      ],
      "execution_count": 4,
      "outputs": [
        {
          "output_type": "execute_result",
          "data": {
            "text/plain": [
              "<pyvirtualdisplay.display.Display at 0x7f2ab24b0950>"
            ]
          },
          "metadata": {
            "tags": []
          },
          "execution_count": 4
        }
      ]
    },
    {
      "cell_type": "markdown",
      "metadata": {
        "id": "3zeBQSTD0RaQ"
      },
      "source": [
        "# Test if setup is completed and working properly"
      ]
    },
    {
      "cell_type": "code",
      "metadata": {
        "colab": {
          "base_uri": "https://localhost:8080/",
          "height": 421
        },
        "id": "pr0-ps7hvvUw",
        "outputId": "862d9fe2-8973-492b-8a5e-90517dc43f89"
      },
      "source": [
        "import gym\n",
        "from colab_utils import (\n",
        "    wrap_env,\n",
        "    show_video\n",
        ") \n",
        "\n",
        "env = wrap_env(gym.make(\"CartPole-v1\"))\n",
        "\n",
        "observation = env.reset()\n",
        "for i in range(100):\n",
        "    env.render(mode='rgb_array')\n",
        "    obs, rew, term, _ = env.step(env.action_space.sample() ) \n",
        "    if term:\n",
        "      break;\n",
        "            \n",
        "env.close()\n",
        "show_video()"
      ],
      "execution_count": 12,
      "outputs": [
        {
          "output_type": "display_data",
          "data": {
            "text/html": [
              "<video alt=\"test\" autoplay \n",
              "                loop controls style=\"height: 400px;\">\n",
              "                <source src=\"data:video/mp4;base64,AAAAIGZ0eXBpc29tAAACAGlzb21pc28yYXZjMW1wNDEAAAAIZnJlZQAAEBBtZGF0AAACrgYF//+q3EXpvebZSLeWLNgg2SPu73gyNjQgLSBjb3JlIDE1MiByMjg1NCBlOWE1OTAzIC0gSC4yNjQvTVBFRy00IEFWQyBjb2RlYyAtIENvcHlsZWZ0IDIwMDMtMjAxNyAtIGh0dHA6Ly93d3cudmlkZW9sYW4ub3JnL3gyNjQuaHRtbCAtIG9wdGlvbnM6IGNhYmFjPTEgcmVmPTMgZGVibG9jaz0xOjA6MCBhbmFseXNlPTB4MzoweDExMyBtZT1oZXggc3VibWU9NyBwc3k9MSBwc3lfcmQ9MS4wMDowLjAwIG1peGVkX3JlZj0xIG1lX3JhbmdlPTE2IGNocm9tYV9tZT0xIHRyZWxsaXM9MSA4eDhkY3Q9MSBjcW09MCBkZWFkem9uZT0yMSwxMSBmYXN0X3Bza2lwPTEgY2hyb21hX3FwX29mZnNldD0tMiB0aHJlYWRzPTMgbG9va2FoZWFkX3RocmVhZHM9MSBzbGljZWRfdGhyZWFkcz0wIG5yPTAgZGVjaW1hdGU9MSBpbnRlcmxhY2VkPTAgYmx1cmF5X2NvbXBhdD0wIGNvbnN0cmFpbmVkX2ludHJhPTAgYmZyYW1lcz0zIGJfcHlyYW1pZD0yIGJfYWRhcHQ9MSBiX2JpYXM9MCBkaXJlY3Q9MSB3ZWlnaHRiPTEgb3Blbl9nb3A9MCB3ZWlnaHRwPTIga2V5aW50PTI1MCBrZXlpbnRfbWluPTI1IHNjZW5lY3V0PTQwIGludHJhX3JlZnJlc2g9MCByY19sb29rYWhlYWQ9NDAgcmM9Y3JmIG1idHJlZT0xIGNyZj0yMy4wIHFjb21wPTAuNjAgcXBtaW49MCBxcG1heD02OSBxcHN0ZXA9NCBpcF9yYXRpbz0xLjQwIGFxPTE6MS4wMACAAAABw2WIhAAz//727L4FNf2f0JcRLMXaSnA+KqSAgHc0wAAAAwAAAwAAFgn0I7DkqgN3QAAAHGAFBCwCPCVC2EhIBqk+Zlf4HWMAJUDdKisLQSfs4RNp57CqYJReaVpe5RNA/jHz35+ZMxTpqK5mOsgX8hMKqNjjBA1baMOWgTubNN7GdGk7rVNXTQIKK2lepy1qJMuRFPAJQ1LB38uct0O/8DBwuTvab0wAhePTf4PsrMZ6gdU9ffgWZ4+83v2v5Qs/CGSIw/1lNkERXudUMsFrUnjficPSJK37bOQwN1w88UbGP8QiHUjhXkgLLBmFslyvbbVWFlJgKbMQzHBulGnpu6ZrT4PxVN/6XaWlNU1bi0Tt5+F4lM9Bdq6Gpgyw/pRpqvBi1xc4eAq9mbDqQgFKLaspCXwc2rQiIElGR4/VUY/qWgkfggK3uDndbqq9iTNzMG/dZF8XhqFY/xz9BDy8B71qmHJo0Yfm59bk+aLfFJAS7Zj5IuKzPrufUFbVJ2b1LnoVanuRNzOtmv4+uqWkK1/XHISxD9vniw9Zb7s1hzok5bpMYkRuHwieniCxIAAUwAAEoGIAAAMAAAMAAAMAAAMAnIEAAADxQZokbEM//p4QAABFS0IHuekxoAS3U9+ylIFFG8jsYeKizrHZ0JoSOD80jOZPQ5smZOwBe8tzu5hyY8kgp0lFfPhwxfGcoGjLXc3kTPV62jEXcfeQ1ormwSnzAKSJcdmBH44PAzzjw8AAfv/7Js0k8DMaipBIRTnWHwjytpfwL0DIsety+3JNjteFOysdbpvlMUptz7rwhJzDW3/iK7QYyIU9uw3EtQSlnhwI5UzhkMpYMks4eyr+2IKtVeVygX2G0UFaTJP9i+zfEgckAOacE/mzWnNZXOorCcdNgaVKVtpfE78bmaFGtqlgYwMrlnDEXAAAAE1BnkJ4hH8AABa+S7BCc/Z2ZYABat3fAqPS9lq72tIj85AlqZ1+22rKQ/2Cw0ZjPJWpLoAAAAMCtpH3lGcNlVApPDqm8NUE+u1qVQAEPQAAADEBnmF0R/8AAAMB5blAYGQRlN51W1B86K6l1ndhUcAAAAMAEfaECwAAAwBiD6mWAAyoAAAAMgGeY2pH/wAAI7HMCW+pb7JNfdEfCAAAtFixYN0fB3T7WLrjLCqHgp3CAKOkPp0ywFtBAAAAYkGaaEmoQWiZTAhn//6eEAAARU5WgfVBSgEHpbEGMEUBf0G1ulC1+aD/zlHZz4AWtLFONOyvo2FM7d/86kyWsOT6qfxkY+EXQPWhkcttN3ynytLV2z8hFJqlpL9HiuQQgAbNAAAASkGehkURLCP/AAAWvERDEACLSmPBbFyod0+kL+duxcTGoZIKVj4g4VFpSa+AWqd+IofZNhR5aLhAF1yb0x9SeAAB0cvhPIhKoG/BAAAAMAGepXRH/wAAIqw8n1s88jpSCKS6oABaLdKc3mN+RgQwhzKVGAAAAwBBRk0B6qgKCQAAADMBnqdqR/8AACOxzCsdyw7kAMIxVeKJM/s5S4V6R5qcK64HdwGroDgAAAMBr0AjPbLAf4AAAAB0QZqsSahBbJlMCF///oywAABGAvCgEAJ9d4mJAJ/Jf6ViA46VCJk+VJq2YKe1eMLjoRAs2JhAl72gd9nMdx2M8u6Zd+nIBUvSkcp6qH5fe7XxrnvrLl7uY5oc6CY23GfJfR6a8F91bIfeou/zTxsQtwPNF7AAAABAQZ7KRRUsI/8AABa8Q823FcysmTrtLZWTzuqvSaQAnGJQTwRsJQ+hRhBx8SBkcBAq4AAAAwAAAwAJkKIauywH+QAAADUBnul0R/8AAAMAuGpdAS2TH+AC6gCP6bj65hmARrG1gsoiALR81pf64AAAAwAAHdkbUywqYAAAAEMBnutqR/8AACO/BCcSyWmZJGWABcT+mCmxQX9y1JLUwDnzLt6kggzUe4EMgCvTppnyjkB5PTGZjU2VAbuOH/nwgOOAAAAATkGa70moQWyZTAhn//6eEAAAGn/kQQBVzQyFTUB95vo7lCAtf7p3yZs6euE05Xhzz0+i9VI4lf7hK5GOmy+9If9103ZSQZyEiA9rgpliDwAAAC5Bnw1FFSwj/wAACGwLHrugWYZLBHsUXUqiBc6sw9DjJuOrlj4QAAAGWhSplhUxAAAAIQGfLmpH/wAAAwC6SSb3ROxQi96n4QH7yXIgAAD0OjLEHQAAAGZBmzNJqEFsmUwIX//+jLAAAEYUcKtG4AAx0ADRZTDBaFb1ZoazSJ2YzIhawfLDj1qfHf/SpCd6ttJtG8fYNjQgUK3Dw4/5qS0jwWBj1yyu7+p8oiAOqmEz0AAAAwALUF+Iu+oxRoAAAAAqQZ9RRRUsI/8AABa+pKsH5G1Zi8i8RKXx8QXo/Slq7gAAAwAK5r2ywH+AAAAANgGfcHRH/wAAAwBFV/C28E9yd6hK2BQALiftKWp7y/4JArdRI/TfZV4AAAMAAAMAVbCv74QJOQAAAB0Bn3JqR/8AACO/BCcS0CS7gnJA1gAAAwAeGplhUwAAAF5Bm3dJqEFsmUwIX//+jLAAABqKXKmzAAZ9lk+keTUY1dnk87fFh2omnlI2GZStFck99HoMBx4DOURSJt0mWTNF5njjTgC4kmIUTd/Mzgb0wNQ1+HxAAAADAUI1KoQcAAAANUGflUUVLCP/AAAIa/rnG80vuyHgAtSKZ74Yeb443OtmQAu9+c33uiTfAAADAAADAA5gKoGjAAAAMQGftHRH/wAAIthcwBESAtEBoKHtG42cH29tTGu+yMlY8Aq77eWxyTJb79PwdQFUDRgAAAAzAZ+2akf/AAADALomAcNyrHAAW4Aw/Z4uJ3hCnpcVvKYxUxNyAvSDaYtw6MqAAKKx4Qg5AAAA1UGbu0moQWyZTAhf//6MsAAARgMY0ZgA4y5No4u/MjF+rigfgkkDdG0t+Uo0g7u7Mq/wNUrDpVI36BeRVQAu1uxtA7xzGRDF8PQIbuLniApzIWCaMs3N2zUYgomyHMk8jZADetWqqsU6GMTCqrOgu7sQxFoSk6327hlOXMT4D3FKCAXl5Qiqj2wXcxNyY4L0aNgx3d0Q051XJR9oIpd60ZpNuoB9/0O57u8Ff2La6ITVt5XKUmCBLREnKRANdHDgNsbh/45/CG37m7ZDoio8WRmAZwB8wQAAAEpBn9lFFSwj/wAAFr3d10Tvs1ChsHEjowAJ1P0dzAndKWkXqgDKxwkRIsL3xYykCPXWT1NIydYSLYjFP6YfYZgAAClb2hbh0wgNmAAAACoBn/h0R/8AACPDF3WPjyukG/ybx+r1BBkmmvmCsnqAAAADABoeAOTwgScAAABRAZ/6akf/AAAj1SEAItC2unXa5BlzIoMlP8f0N+17BcwZvd9HkEz4kliQaV+VTeLA6pOLamL0LQ6iCHBPEBTbvS+NjRkIAAADAAA3oKM8VQH+AAAA3EGb/0moQWyZTAhP//3xAAADAqPsNJKnwAHG8e+8lxlUgFWvHPVenGoTBbqZMG3PyH5SA/FsnJ+HI2/aioBSfMuzmCYXdOelitcSFeEWWfYITcN75plyOEkwYqq862+gdiMwhQk+dQpNSI+BeQCJpe4uJI2kvXfA+OwjnqO0CwWZas3h3yft7otZB21sHSkwGgOFYfezVV1/51HEZKGVlXI2fpElxuWW1Zt+2+pTmh0N17JfAljiCC5/7K3Xaj+M9TRZiEqlRsXvRvg2AAADAAADAAC0FFOPOV66WxEAAAB8QZ4dRRUsI/8AABa+XEhGMQ7eIWFxKL3On2K+UlRNNOAbaSki0En3r4vi/hiIATUa1hpvEwkWYabTPHbpdD0gT289W75M35tEtbKr6IdtFE3OEuOm/FHc/x0N7r5T0p7Vxi6bgBN+Gr0qzFruonVluJAAEOSshzzSMsCygQAAAHMBnjx0R/8AACPVIQAsKmDxFa6GCB3R6M6Csz22TrzeF1w4Vz8xrfO5vMjw35UaIEThgrEH6KfE+cAagXUTORTkTixP5U5/MKe+6FZP26MlnJ9FqppVAa9Kj//fPZK0ImWhH5WAVdAAAAMAGQdgwRVDwgR8AAAAWQGePmpH/wAAI72VbfUTmcqzarxZbImMqC9GtSnWiAC59ImdIOvLuKxIX+Wn0kQ/EF8HQqj97PSma7LB5bQAmIeTxY6o0h4LdFv4XuGrJc0MPYYQVQabFimwAAAAm0GaIUmoQWyZTBRMf/yEAAAPf49kUAOgKSHliZaIGzKdJ4ApbG7PuNQKGxUMp27qftGieLz98hQAbGRycjuG6iMy4iE4fPMEy5lmskMO3SQ8xLTYM3jzRCYewJr9oZAPSbaDE9t5JbpHk8Lg4cKo/AFODkCIp5zJGWOAN6b6TTU8M3DSZj8/rXKSqKxxrdgeLZv/9hOLhK7yyQnBAAAAXwGeQGpH/wAAIjv60jbgksvg1IwxhlNefvoDORDcoQWo7h8mpaCfJjLgHX4wlFgez/HRX5Pt44utEja920ACHLooNFXDPM7oftEqTX/fc7tcHsL94ilAYkPeHhKVv9CLAAAEo21vb3YAAABsbXZoZAAAAAAAAAAAAAAAAAAAA+gAAAKoAAEAAAEAAAAAAAAAAAAAAAABAAAAAAAAAAAAAAAAAAAAAQAAAAAAAAAAAAAAAAAAQAAAAAAAAAAAAAAAAAAAAAAAAAAAAAAAAAAAAAAAAAIAAAPNdHJhawAAAFx0a2hkAAAAAwAAAAAAAAAAAAAAAQAAAAAAAAKoAAAAAAAAAAAAAAAAAAAAAAABAAAAAAAAAAAAAAAAAAAAAQAAAAAAAAAAAAAAAAAAQAAAAAJYAAABkAAAAAAAJGVkdHMAAAAcZWxzdAAAAAAAAAABAAACqAAAAgAAAQAAAAADRW1kaWEAAAAgbWRoZAAAAAAAAAAAAAAAAAAAMgAAACIAVcQAAAAAAC1oZGxyAAAAAAAAAAB2aWRlAAAAAAAAAAAAAAAAVmlkZW9IYW5kbGVyAAAAAvBtaW5mAAAAFHZtaGQAAAABAAAAAAAAAAAAAAAkZGluZgAAABxkcmVmAAAAAAAAAAEAAAAMdXJsIAAAAAEAAAKwc3RibAAAAJhzdHNkAAAAAAAAAAEAAACIYXZjMQAAAAAAAAABAAAAAAAAAAAAAAAAAAAAAAJYAZAASAAAAEgAAAAAAAAAAQAAAAAAAAAAAAAAAAAAAAAAAAAAAAAAAAAAAAAAAAAAABj//wAAADJhdmNDAWQAH//hABlnZAAfrNlAmDPl4QAAAwABAAADAGQPGDGWAQAGaOvjyyLAAAAAGHN0dHMAAAAAAAAAAQAAACIAAAEAAAAAFHN0c3MAAAAAAAAAAQAAAAEAAAEYY3R0cwAAAAAAAAAhAAAAAQAAAgAAAAABAAAFAAAAAAEAAAIAAAAAAQAAAAAAAAABAAABAAAAAAEAAAUAAAAAAQAAAgAAAAABAAAAAAAAAAEAAAEAAAAAAQAABQAAAAABAAACAAAAAAEAAAAAAAAAAQAAAQAAAAABAAAEAAAAAAIAAAEAAAAAAQAABQAAAAABAAACAAAAAAEAAAAAAAAAAQAAAQAAAAABAAAFAAAAAAEAAAIAAAAAAQAAAAAAAAABAAABAAAAAAEAAAUAAAAAAQAAAgAAAAABAAAAAAAAAAEAAAEAAAAAAQAABQAAAAABAAACAAAAAAEAAAAAAAAAAQAAAQAAAAABAAADAAAAAAEAAAEAAAAAHHN0c2MAAAAAAAAAAQAAAAEAAAAiAAAAAQAAAJxzdHN6AAAAAAAAAAAAAAAiAAAEeQAAAPUAAABRAAAANQAAADYAAABmAAAATgAAADQAAAA3AAAAeAAAAEQAAAA5AAAARwAAAFIAAAAyAAAAJQAAAGoAAAAuAAAAOgAAACEAAABiAAAAOQAAADUAAAA3AAAA2QAAAE4AAAAuAAAAVQAAAOAAAACAAAAAdwAAAF0AAACfAAAAYwAAABRzdGNvAAAAAAAAAAEAAAAwAAAAYnVkdGEAAABabWV0YQAAAAAAAAAhaGRscgAAAAAAAAAAbWRpcmFwcGwAAAAAAAAAAAAAAAAtaWxzdAAAACWpdG9vAAAAHWRhdGEAAAABAAAAAExhdmY1Ny44My4xMDA=\" type=\"video/mp4\" />\n",
              "             </video>"
            ],
            "text/plain": [
              "<IPython.core.display.HTML object>"
            ]
          },
          "metadata": {
            "tags": []
          }
        }
      ]
    },
    {
      "cell_type": "markdown",
      "metadata": {
        "id": "63rhqwXVhHAJ"
      },
      "source": [
        "# OpenAI Gym Experimentation"
      ]
    },
    {
      "cell_type": "code",
      "metadata": {
        "id": "U8zvyLwph9z6"
      },
      "source": [
        "import gym\n",
        "from colab_utils import (\n",
        "    wrap_env,\n",
        "    show_video\n",
        ") "
      ],
      "execution_count": 13,
      "outputs": []
    },
    {
      "cell_type": "code",
      "metadata": {
        "colab": {
          "base_uri": "https://localhost:8080/"
        },
        "id": "vrv8cIjVhQPU",
        "outputId": "e7456ae6-619a-4b9b-d0d9-d1b9efd0fbbf"
      },
      "source": [
        "# env = wrap_env(gym.make(\"CartPole-v1\"))\n",
        "env = wrap_env(gym.make(\"LunarLander-v2\"))\n",
        "\n",
        "print(env.action_space)"
      ],
      "execution_count": 14,
      "outputs": [
        {
          "output_type": "stream",
          "text": [
            "Discrete(4)\n"
          ],
          "name": "stdout"
        }
      ]
    }
  ]
}