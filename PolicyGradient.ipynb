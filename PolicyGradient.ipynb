{
  "nbformat": 4,
  "nbformat_minor": 0,
  "metadata": {
    "kernelspec": {
      "display_name": "Python 3",
      "language": "python",
      "name": "python3"
    },
    "language_info": {
      "codemirror_mode": {
        "name": "ipython",
        "version": 3
      },
      "file_extension": ".py",
      "mimetype": "text/x-python",
      "name": "python",
      "nbconvert_exporter": "python",
      "pygments_lexer": "ipython3",
      "version": "3.6.9"
    },
    "colab": {
      "name": "PolicyGradient.ipynb",
      "provenance": [],
      "collapsed_sections": [],
      "include_colab_link": true
    }
  },
  "cells": [
    {
      "cell_type": "markdown",
      "metadata": {
        "id": "view-in-github",
        "colab_type": "text"
      },
      "source": [
        "<a href=\"https://colab.research.google.com/github/aditya-shriwastava/DeepRL_Experimentation/blob/master/PolicyGradient.ipynb\" target=\"_parent\"><img src=\"https://colab.research.google.com/assets/colab-badge.svg\" alt=\"Open In Colab\"/></a>"
      ]
    },
    {
      "cell_type": "markdown",
      "metadata": {
        "id": "j-rDHeZPyI6v"
      },
      "source": [
        "# Setup the project in Google Colab"
      ]
    },
    {
      "cell_type": "code",
      "metadata": {
        "colab": {
          "base_uri": "https://localhost:8080/"
        },
        "id": "bDCs5BAXqVvM",
        "outputId": "6d485245-fe43-4db5-adf0-ada000d2fdab"
      },
      "source": [
        "#Mount the project in Google Colab\n",
        "\n",
        "GUEST = False\n",
        "PROJECT = 'DeepRL_Experimentation'\n",
        "\n",
        "import os\n",
        "if GUEST:\n",
        "  !git clone https://github.com/aditya-shriwastava/DeepRL_Experimentation.git\n",
        "else:\n",
        "  # Mount Google Drive\n",
        "  from google.colab import drive\n",
        "  drive.mount('/content/gdrive')\n",
        "\n",
        "  # Setup Symlink to project folder\n",
        "  DRIVE_PATH = '/content/gdrive/My\\ Drive/' + PROJECT\n",
        "  SYM_PATH = '/content/' + PROJECT\n",
        "  if not os.path.exists(SYM_PATH):\n",
        "    !ln -s $DRIVE_PATH $SYM_PATH\n",
        "\n",
        "os.chdir( '/content/' + PROJECT)"
      ],
      "execution_count": 1,
      "outputs": [
        {
          "output_type": "stream",
          "text": [
            "Mounted at /content/gdrive\n"
          ],
          "name": "stdout"
        }
      ]
    },
    {
      "cell_type": "code",
      "metadata": {
        "id": "7gePCUf_4XbC",
        "cellView": "form"
      },
      "source": [
        "#@title apt install requirements\n",
        "\n",
        "!apt update > /dev/null 2>&1\n",
        "!apt install -y --no-install-recommends \\\n",
        "        xvfb \\\n",
        "        ffmpeg > /dev/null 2>&1"
      ],
      "execution_count": 2,
      "outputs": []
    },
    {
      "cell_type": "code",
      "metadata": {
        "id": "l6BxVwld5szD",
        "cellView": "form"
      },
      "source": [
        "#@title pip install requirements\n",
        "\n",
        "!pip install pyvirtualdisplay > /dev/null 2>&1\n",
        "!pip3 install box2d-py > /dev/null 2>&1\n",
        "!pip install Box2D > /dev/null 2>&1"
      ],
      "execution_count": 3,
      "outputs": []
    },
    {
      "cell_type": "code",
      "metadata": {
        "colab": {
          "base_uri": "https://localhost:8080/"
        },
        "id": "W8Ys-gbVvbN_",
        "cellView": "form",
        "outputId": "9df9b11f-e2b6-4135-a332-550410e1c332"
      },
      "source": [
        "#@title Setup Virtual Display\n",
        "\n",
        "from pyvirtualdisplay import Display\n",
        "\n",
        "display = Display(visible=0, size=(1400, 900))\n",
        "display.start()"
      ],
      "execution_count": 4,
      "outputs": [
        {
          "output_type": "execute_result",
          "data": {
            "text/plain": [
              "<pyvirtualdisplay.display.Display at 0x7f657ccd1cd0>"
            ]
          },
          "metadata": {
            "tags": []
          },
          "execution_count": 4
        }
      ]
    },
    {
      "cell_type": "markdown",
      "metadata": {
        "id": "3zeBQSTD0RaQ"
      },
      "source": [
        "# Test if setup is completed and working properly"
      ]
    },
    {
      "cell_type": "code",
      "metadata": {
        "colab": {
          "base_uri": "https://localhost:8080/",
          "height": 421
        },
        "id": "pr0-ps7hvvUw",
        "outputId": "2f185c0c-8d6f-4cf9-eeed-eb49d49acaa5"
      },
      "source": [
        "import gym\n",
        "from colab_utils import (\n",
        "    wrap_env,\n",
        "    show_video\n",
        ")\n",
        "\n",
        "env = wrap_env(gym.make(\"CartPole-v1\"))\n",
        "\n",
        "observation = env.reset()\n",
        "for i in range(100):\n",
        "    env.render(mode='rgb_array')\n",
        "    obs, rew, term, _ = env.step(env.action_space.sample() ) \n",
        "    if term:\n",
        "      break;\n",
        "            \n",
        "env.close()\n",
        "show_video()"
      ],
      "execution_count": null,
      "outputs": [
        {
          "output_type": "display_data",
          "data": {
            "text/html": [
              "<video alt=\"test\" autoplay \n",
              "                loop controls style=\"height: 400px;\">\n",
              "                <source src=\"data:video/mp4;base64,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\" type=\"video/mp4\" />\n",
              "             </video>"
            ],
            "text/plain": [
              "<IPython.core.display.HTML object>"
            ]
          },
          "metadata": {
            "tags": []
          }
        }
      ]
    },
    {
      "cell_type": "markdown",
      "metadata": {
        "id": "63rhqwXVhHAJ"
      },
      "source": [
        "# Policy Gradient Algorithm Experimentation"
      ]
    },
    {
      "cell_type": "code",
      "metadata": {
        "colab": {
          "base_uri": "https://localhost:8080/"
        },
        "id": "q0DuGYbwew9a",
        "cellView": "form",
        "outputId": "63ea525b-1423-42c0-b6a6-704b1122db3d"
      },
      "source": [
        "#@title Imports\n",
        "from importlib import reload\n",
        "import gym\n",
        "\n",
        "import PolicyGradient.MLP_critic\n",
        "reload(PolicyGradient.MLP_critic)\n",
        "\n",
        "import PolicyGradient.MLP_policy_PG\n",
        "reload(PolicyGradient.MLP_policy_PG)\n",
        "\n",
        "import PolicyGradient.pg_agent\n",
        "reload(PolicyGradient.pg_agent)\n",
        "from PolicyGradient.pg_agent import PGAgent\n",
        "\n",
        "import utils\n",
        "reload(utils)"
      ],
      "execution_count": 6,
      "outputs": [
        {
          "output_type": "execute_result",
          "data": {
            "text/plain": [
              "<module 'utils' from '/content/gdrive/My Drive/DeepRL_Experimentation/utils.py'>"
            ]
          },
          "metadata": {
            "tags": []
          },
          "execution_count": 6
        }
      ]
    },
    {
      "cell_type": "code",
      "metadata": {
        "colab": {
          "base_uri": "https://localhost:8080/"
        },
        "id": "Hy06fCch9Lvx",
        "outputId": "2ea8b5fe-eb71-432d-e722-eaf0feacb150"
      },
      "source": [
        "env = gym.make(\"CartPole-v1\")\n",
        "\n",
        "actor_params = {\\\n",
        "\"ac_dim\": env.action_space.n,\\\n",
        "\"ob_dim\": env.observation_space.shape[0],\\\n",
        "\"n_layers\": 5,\\\n",
        "\"hidden_layer_size\": 100,\\\n",
        "\"learning_rate\": 1e-4}\n",
        "\n",
        "critic_params = {\\\n",
        "\"ob_dim\": env.observation_space.shape[0],\\\n",
        "\"n_layers\": 5,\\\n",
        "\"hidden_layer_size\": 100,\\\n",
        "\"learning_rate\": 1e-4}\n",
        "\n",
        "agent_params = {\\\n",
        "\"actor_params\": actor_params,\\\n",
        "\"critic_params\": critic_params,\\\n",
        "\"baseline_enable\": True}\n",
        "\n",
        "pg_agent = PGAgent(agent_params)\n",
        "\n",
        "print(f\"E[rewards_sum] before training: {utils.expected_rewards_sum(env, pg_agent.actor, env._max_episode_steps, 200)}\")\n",
        "\n",
        "# Training Loop\n",
        "for i in range(150):\n",
        "  print(i, end = \",\")\n",
        "  trajectories = utils.sample_trajectories(env, pg_agent.actor, env._max_episode_steps, 5000)\n",
        "  pg_agent.train(trajectories)\n",
        "\n",
        "print(f\"\\nE[rewards_sum] after training: {utils.expected_rewards_sum(env, pg_agent.actor, env._max_episode_steps, 200)}\")"
      ],
      "execution_count": 7,
      "outputs": [
        {
          "output_type": "stream",
          "text": [
            "E[rewards_sum] before training: 21.95\n",
            "0,1,2,3,4,5,6,7,8,9,10,11,12,13,14,15,16,17,18,19,20,21,22,23,24,25,26,27,28,29,30,31,32,33,34,35,36,37,38,39,40,41,42,43,44,45,46,47,48,49,50,51,52,53,54,55,56,57,58,59,60,61,62,63,64,65,66,67,68,69,70,71,72,73,74,75,76,77,78,79,80,81,82,83,84,85,86,87,88,89,90,91,92,93,94,95,96,97,98,99,100,101,102,103,104,105,106,107,108,109,110,111,112,113,114,115,116,117,118,119,120,121,122,123,124,125,126,127,128,129,130,131,132,133,134,135,136,137,138,139,140,141,142,143,144,145,146,147,148,149,\n",
            "E[rewards_sum] after training: 197.055\n"
          ],
          "name": "stdout"
        }
      ]
    },
    {
      "cell_type": "code",
      "metadata": {
        "id": "ruSCGDqgwHjz",
        "colab": {
          "base_uri": "https://localhost:8080/",
          "height": 421
        },
        "outputId": "34841c7a-b25f-45fa-b4fb-6252f307fd81"
      },
      "source": [
        "from colab_utils import (\n",
        "    wrap_env,\n",
        "    show_video\n",
        ")\n",
        "\n",
        "envw = wrap_env(env)\n",
        "\n",
        "ob = envw.reset()\n",
        "for i in range(500):\n",
        "  envw.render(mode='rgb_array')\n",
        "  ob, reward, done, _ = envw.step(pg_agent.actor.get_action(ob)) \n",
        "  if done:\n",
        "    break;\n",
        "            \n",
        "envw.close()\n",
        "show_video()"
      ],
      "execution_count": 8,
      "outputs": [
        {
          "output_type": "display_data",
          "data": {
            "text/html": [
              "<video alt=\"test\" autoplay \n",
              "                loop controls style=\"height: 400px;\">\n",
              "                <source src=\"data:video/mp4;base64,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\" type=\"video/mp4\" />\n",
              "             </video>"
            ],
            "text/plain": [
              "<IPython.core.display.HTML object>"
            ]
          },
          "metadata": {
            "tags": []
          }
        }
      ]
    }
  ]
}