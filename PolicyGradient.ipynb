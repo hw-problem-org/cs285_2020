{
  "nbformat": 4,
  "nbformat_minor": 0,
  "metadata": {
    "kernelspec": {
      "display_name": "Python 3",
      "language": "python",
      "name": "python3"
    },
    "language_info": {
      "codemirror_mode": {
        "name": "ipython",
        "version": 3
      },
      "file_extension": ".py",
      "mimetype": "text/x-python",
      "name": "python",
      "nbconvert_exporter": "python",
      "pygments_lexer": "ipython3",
      "version": "3.6.9"
    },
    "colab": {
      "name": "PolicyGradient.ipynb",
      "provenance": [],
      "collapsed_sections": [
        "3zeBQSTD0RaQ"
      ],
      "include_colab_link": true
    }
  },
  "cells": [
    {
      "cell_type": "markdown",
      "metadata": {
        "id": "view-in-github",
        "colab_type": "text"
      },
      "source": [
        "<a href=\"https://colab.research.google.com/github/aditya-shriwastava/DeepRL_Experimentation/blob/master/PolicyGradient.ipynb\" target=\"_parent\"><img src=\"https://colab.research.google.com/assets/colab-badge.svg\" alt=\"Open In Colab\"/></a>"
      ]
    },
    {
      "cell_type": "markdown",
      "metadata": {
        "id": "j-rDHeZPyI6v"
      },
      "source": [
        "# Setup the project in Google Colab"
      ]
    },
    {
      "cell_type": "code",
      "metadata": {
        "colab": {
          "base_uri": "https://localhost:8080/"
        },
        "id": "bDCs5BAXqVvM",
        "outputId": "2e4c119d-ab55-4d8b-9743-2033a470ed3c"
      },
      "source": [
        "#@title Mount the project in Google Colab\n",
        "\n",
        "GUEST = False\n",
        "PROJECT = 'DeepRL_Experimentation'\n",
        "\n",
        "import os\n",
        "if GUEST:\n",
        "  !git clone https://github.com/aditya-shriwastava/DeepRL_Experimentation.git\n",
        "else:\n",
        "  # Mount Google Drive\n",
        "  from google.colab import drive\n",
        "  drive.mount('/content/gdrive')\n",
        "\n",
        "  # Setup Symlink to project folder\n",
        "  DRIVE_PATH = '/content/gdrive/My\\ Drive/' + PROJECT\n",
        "  SYM_PATH = '/content/' + PROJECT\n",
        "  if not os.path.exists(SYM_PATH):\n",
        "    !ln -s $DRIVE_PATH $SYM_PATH\n",
        "\n",
        "os.chdir( '/content/' + PROJECT)"
      ],
      "execution_count": 1,
      "outputs": [
        {
          "output_type": "stream",
          "text": [
            "Mounted at /content/gdrive\n"
          ],
          "name": "stdout"
        }
      ]
    },
    {
      "cell_type": "code",
      "metadata": {
        "id": "7gePCUf_4XbC",
        "cellView": "form"
      },
      "source": [
        "#@title apt install requirements\n",
        "\n",
        "!apt update > /dev/null 2>&1\n",
        "!apt install -y --no-install-recommends \\\n",
        "        build-essential \\\n",
        "        curl \\\n",
        "        git \\\n",
        "        gnupg2 \\\n",
        "        make \\\n",
        "        cmake \\\n",
        "        ffmpeg \\\n",
        "        swig \\\n",
        "        libz-dev \\\n",
        "        unzip \\\n",
        "        zlib1g-dev \\\n",
        "        libglfw3 \\\n",
        "        libglfw3-dev \\\n",
        "        libxrandr2 \\\n",
        "        libxinerama-dev \\\n",
        "        libxi6 \\\n",
        "        libxcursor-dev \\\n",
        "        libgl1-mesa-dev \\\n",
        "        libgl1-mesa-glx \\\n",
        "        libglew-dev \\\n",
        "        libosmesa6-dev \\\n",
        "        lsb-release \\\n",
        "        ack-grep \\\n",
        "        patchelf \\\n",
        "        wget \\\n",
        "        xpra \\\n",
        "        xserver-xorg-dev \\\n",
        "        xvfb \\\n",
        "        python-opengl \\\n",
        "        ffmpeg > /dev/null 2>&1"
      ],
      "execution_count": 2,
      "outputs": []
    },
    {
      "cell_type": "code",
      "metadata": {
        "id": "l6BxVwld5szD",
        "cellView": "form"
      },
      "source": [
        "#@title pip install requirements\n",
        "\n",
        "!pip install pyvirtualdisplay > /dev/null 2>&1\n",
        "!pip3 install box2d-py > /dev/null 2>&1\n",
        "!pip install Box2D > /dev/null 2>&1"
      ],
      "execution_count": 3,
      "outputs": []
    },
    {
      "cell_type": "code",
      "metadata": {
        "colab": {
          "base_uri": "https://localhost:8080/"
        },
        "id": "W8Ys-gbVvbN_",
        "cellView": "form",
        "outputId": "429cd973-797c-497d-a9c5-ef374034ce04"
      },
      "source": [
        "#@title Setup Virtual Display\n",
        "\n",
        "from pyvirtualdisplay import Display\n",
        "\n",
        "display = Display(visible=0, size=(1400, 900))\n",
        "display.start()"
      ],
      "execution_count": 4,
      "outputs": [
        {
          "output_type": "execute_result",
          "data": {
            "text/plain": [
              "<pyvirtualdisplay.display.Display at 0x7f7f90635f50>"
            ]
          },
          "metadata": {
            "tags": []
          },
          "execution_count": 4
        }
      ]
    },
    {
      "cell_type": "markdown",
      "metadata": {
        "id": "3zeBQSTD0RaQ"
      },
      "source": [
        "# Test if setup is completed and working properly"
      ]
    },
    {
      "cell_type": "code",
      "metadata": {
        "colab": {
          "base_uri": "https://localhost:8080/",
          "height": 421
        },
        "id": "pr0-ps7hvvUw",
        "outputId": "7fe36334-1b19-457b-b606-8c994bd56649"
      },
      "source": [
        "import gym\n",
        "from colab_utils import (\n",
        "    wrap_env,\n",
        "    show_video\n",
        ")\n",
        "\n",
        "env = wrap_env(gym.make(\"CartPole-v1\"))\n",
        "\n",
        "observation = env.reset()\n",
        "for i in range(100):\n",
        "    env.render(mode='rgb_array')\n",
        "    obs, rew, term, _ = env.step(env.action_space.sample() ) \n",
        "    if term:\n",
        "      break;\n",
        "            \n",
        "env.close()\n",
        "show_video()"
      ],
      "execution_count": 5,
      "outputs": [
        {
          "output_type": "display_data",
          "data": {
            "text/html": [
              "<video alt=\"test\" autoplay \n",
              "                loop controls style=\"height: 400px;\">\n",
              "                <source src=\"data:video/mp4;base64,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\" type=\"video/mp4\" />\n",
              "             </video>"
            ],
            "text/plain": [
              "<IPython.core.display.HTML object>"
            ]
          },
          "metadata": {
            "tags": []
          }
        }
      ]
    },
    {
      "cell_type": "markdown",
      "metadata": {
        "id": "63rhqwXVhHAJ"
      },
      "source": [
        "# REINFORCE Algorithm Experimentation"
      ]
    },
    {
      "cell_type": "code",
      "metadata": {
        "colab": {
          "base_uri": "https://localhost:8080/"
        },
        "id": "eF7PpWrRK0D4",
        "cellView": "form",
        "outputId": "489bdb9e-d9c4-47e2-bcb7-f5635c98f3df"
      },
      "source": [
        "#@title Imports\n",
        "from importlib import reload\n",
        "import gym\n",
        "\n",
        "import MLP_policy\n",
        "reload(MLP_policy)\n",
        "from MLP_policy import MLPPolicy\n",
        "\n",
        "import utils\n",
        "reload(utils)"
      ],
      "execution_count": 92,
      "outputs": [
        {
          "output_type": "execute_result",
          "data": {
            "text/plain": [
              "<module 'utils' from '/content/gdrive/My Drive/DeepRL_Experimentation/utils.py'>"
            ]
          },
          "metadata": {
            "tags": []
          },
          "execution_count": 92
        }
      ]
    },
    {
      "cell_type": "code",
      "metadata": {
        "colab": {
          "base_uri": "https://localhost:8080/"
        },
        "id": "CxBhzPAqJ2dM",
        "outputId": "762524bb-fac9-40bf-a663-1ec245ef3c2e"
      },
      "source": [
        "env = gym.make(\"CartPole-v1\")\n",
        "\n",
        "ac_dim = env.action_space.n\n",
        "ob_dim = env.observation_space.shape[0]\n",
        "n_layers = 5\n",
        "hidden_layer_size = 100\n",
        "learning_rate = 1e-4\n",
        "\n",
        "policy = MLPPolicy(ac_dim, ob_dim, n_layers, hidden_layer_size, learning_rate)\n",
        "\n",
        "print(f\"E[rewards_sum] before training: {utils.expected_rewards_sum(env, policy, env._max_episode_steps, 200)}\")\n",
        "\n",
        "for _ in range(500):\n",
        "  trajectories = utils.sample_n_trajectories(env, policy, env._max_episode_steps, 20)\n",
        "  policy.update(trajectories)\n",
        "\n",
        "print(f\"E[rewards_sum] before training: {utils.expected_rewards_sum(env, policy, env._max_episode_steps, 200)}\")"
      ],
      "execution_count": 96,
      "outputs": [
        {
          "output_type": "stream",
          "text": [
            "22.615\n",
            "99.975\n"
          ],
          "name": "stdout"
        }
      ]
    }
  ]
}